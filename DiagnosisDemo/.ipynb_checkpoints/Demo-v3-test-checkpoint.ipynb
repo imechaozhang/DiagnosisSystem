{
 "cells": [
  {
   "cell_type": "markdown",
   "metadata": {},
   "source": [
    "# Diagnosis System version 2 -- test\n",
    "This is a testing version for our diagnosis system. Virtual patients are generated and diagnosed with the system, and the accuracy is calculated."
   ]
  },
  {
   "cell_type": "code",
   "execution_count": 3,
   "metadata": {
    "scrolled": true
   },
   "outputs": [],
   "source": [
    "import pandas as pd\n",
    "import numpy as np\n",
    "\n",
    "WM = pd.read_csv('../WeightMatrix/Dis_Sym_30.csv', index_col=0)\n",
    "\n",
    "dis2sym = pd.read_csv('../UMLS/dis_symptom.csv', header=None)\n",
    "\n",
    "dis2sym.fillna(method='ffill',inplace=True)\n",
    "\n",
    "umls_dis = {}\n",
    "umls_sym = {}\n",
    "dis_num = {}\n",
    "for i in dis2sym.index:\n",
    "    temp = dis2sym.loc[i][0]\n",
    "    items = temp.split('^')\n",
    "    item = items[0].strip('UMLS:').split('_')\n",
    "    if len(item) != 2: continue\n",
    "    umls_dis[item[0]] = item[1]\n",
    "    dis_num[item[0]] = int(dis2sym.loc[i][1])\n",
    "for i in dis2sym.index:\n",
    "    temp = dis2sym.loc[i][2]\n",
    "    items = temp.split('^')\n",
    "    item = items[0].strip('UMLS:').split('_')\n",
    "    if len(item) != 2: continue\n",
    "    umls_sym[item[0]] = item[1]\n",
    "    \n",
    "rev_sym = {v: k for k, v in umls_sym.items()}\n",
    "rev_dis = {v: k for k, v in umls_dis.items()}"
   ]
  },
  {
   "cell_type": "code",
   "execution_count": 4,
   "metadata": {},
   "outputs": [],
   "source": [
    "patients = {}\n",
    "\n",
    "for i in WM.index:\n",
    "    patients[i] = []\n",
    "    for j in WM.columns:\n",
    "        if WM.loc[i][j] != 0:\n",
    "            patients[i].append(j)\n",
    "#patients"
   ]
  },
  {
   "cell_type": "code",
   "execution_count": 5,
   "metadata": {},
   "outputs": [],
   "source": [
    "#patients"
   ]
  },
  {
   "cell_type": "code",
   "execution_count": 6,
   "metadata": {},
   "outputs": [],
   "source": [
    "def SelectedMatrix(sym):\n",
    "    selected = WM[WM[sym] != 0]\n",
    "    selected = selected.drop(columns=[sym])\n",
    "    for c in selected.columns:\n",
    "        if sum(selected[c]) == 0:\n",
    "            selected.drop(columns=[c],inplace=True)\n",
    "    return selected\n",
    "    "
   ]
  },
  {
   "cell_type": "code",
   "execution_count": 7,
   "metadata": {},
   "outputs": [],
   "source": [
    "def renorm(dia):\n",
    "    for c in dia.index:\n",
    "        dia[c] *= dis_num[c]**(1/3)\n",
    "    dia.sort_values(ascending=False, inplace=True)\n",
    "    temp = dia**3\n",
    "    \n",
    "    s = sum(temp[:5])\n",
    "    return temp/s"
   ]
  },
  {
   "cell_type": "code",
   "execution_count": null,
   "metadata": {},
   "outputs": [],
   "source": []
  },
  {
   "cell_type": "code",
   "execution_count": 25,
   "metadata": {},
   "outputs": [],
   "source": [
    "def diagnosis(dis, sym):\n",
    "        \n",
    "    selected = SelectedMatrix(sym)\n",
    "    \n",
    "    #The response vector\n",
    "    res = pd.Series(index=WM.columns, data=[0]*len(WM.columns))\n",
    "    res[sym] = 1\n",
    "    \n",
    "    #Diagnosis process\n",
    "    output = [0,0] # result: accuracy, number of questions asked\n",
    "    while True:\n",
    "        dia = WM.dot(res)\n",
    "        if len(selected) == 1:\n",
    "            dia[selected.index[0]] = 1\n",
    "            dia.sort_values(ascending=False, inplace=True)\n",
    "            if dia.keys()[0] == dis:\n",
    "                output[0] = 1\n",
    "                return output\n",
    "            else:\n",
    "                output[0] = -1\n",
    "                return output\n",
    "        elif len(selected.columns) == 1:\n",
    "            output[0] = 0\n",
    "            return output\n",
    "        \n",
    "        output[1] += 1\n",
    "        #choose the most relevant symptom to ask: The symptom that are least shared with other diseases\n",
    "        next_i = selected.columns[0]\n",
    "        s = 100       \n",
    "        for i in selected.columns:   \n",
    "            if 0 in selected[i].value_counts():\n",
    "                pri = abs(selected[i].value_counts()[0] - len(selected)/2)\n",
    "                if pri < s:\n",
    "                    s = pri\n",
    "                    next_i = i      \n",
    "            else:\n",
    "                res[next_i] = 1\n",
    "                selected = selected[selected[next_i]!=0]  \n",
    "        \n",
    "        if next_i in patients[dis]:\n",
    "            res[next_i] = 1\n",
    "            selected = selected[selected[next_i]!=0]\n",
    "        else:\n",
    "            res[next_i] = 0\n",
    "            selected = selected[selected[next_i]==0]\n",
    "            \n",
    "        selected.drop(columns=[next_i], inplace = True)\n",
    "    "
   ]
  },
  {
   "cell_type": "code",
   "execution_count": 26,
   "metadata": {},
   "outputs": [
    {
     "data": {
      "text/plain": [
       "[1, 4]"
      ]
     },
     "execution_count": 26,
     "metadata": {},
     "output_type": "execute_result"
    }
   ],
   "source": [
    "diagnosis('C0020538', 'C0039070')"
   ]
  },
  {
   "cell_type": "code",
   "execution_count": 10,
   "metadata": {},
   "outputs": [],
   "source": [
    "#patients.items()"
   ]
  },
  {
   "cell_type": "code",
   "execution_count": 27,
   "metadata": {},
   "outputs": [],
   "source": [
    "def performance():\n",
    "    perf = pd.DataFrame(columns = ['result' ,'number of question'])\n",
    "    N = 0\n",
    "    for d, v in patients.items():\n",
    "        for s in v:\n",
    "            N += 1\n",
    "            perf.loc[N] = diagnosis(d,s)\n",
    "            if N%100 == 0: print(N)\n",
    "    perf.to_csv('testlog2.csv')"
   ]
  },
  {
   "cell_type": "code",
   "execution_count": 28,
   "metadata": {},
   "outputs": [
    {
     "name": "stdout",
     "output_type": "stream",
     "text": [
      "100\n",
      "200\n",
      "300\n",
      "400\n",
      "500\n",
      "600\n",
      "700\n",
      "800\n",
      "900\n",
      "1000\n",
      "1100\n",
      "1200\n",
      "1300\n",
      "1400\n",
      "1500\n",
      "1600\n",
      "1700\n",
      "1800\n",
      "CPU times: user 7h 28min 17s, sys: 17h 44min 33s, total: 1d 1h 12min 51s\n",
      "Wall time: 2h 28min 43s\n"
     ]
    }
   ],
   "source": [
    "%%time\n",
    "import time\n",
    "performance()"
   ]
  },
  {
   "cell_type": "code",
   "execution_count": null,
   "metadata": {},
   "outputs": [],
   "source": [
    "a = pd.read_csv('testlog.csv')\n",
    "b = pd.read_csv('testlog2.csv')"
   ]
  },
  {
   "cell_type": "code",
   "execution_count": null,
   "metadata": {},
   "outputs": [],
   "source": []
  },
  {
   "cell_type": "code",
   "execution_count": 48,
   "metadata": {},
   "outputs": [
    {
     "name": "stdout",
     "output_type": "stream",
     "text": [
      "total: 1854\n",
      "Correct: 684\n",
      "Wrong: 1170\n",
      "fail: 0\n"
     ]
    }
   ],
   "source": [
    "N = 0\n",
    "t = 0\n",
    "f = 0\n",
    "for d, v in patients.items():\n",
    "    for s in v:\n",
    "        N += 1\n",
    "        if diagnosis(d,s) == 1:\n",
    "            t += 1\n",
    "        if diagnosis(d,s) == 0:\n",
    "            f += 1\n",
    "print('total:', N)\n",
    "print('Correct:', t)\n",
    "print('Wrong:', N-t-f)\n",
    "print('fail:', f)"
   ]
  },
  {
   "cell_type": "code",
   "execution_count": 43,
   "metadata": {},
   "outputs": [
    {
     "name": "stdout",
     "output_type": "stream",
     "text": [
      "total: 1854\n",
      "Correct: 1854\n",
      "Wrong: 0\n",
      "fail: 0\n"
     ]
    }
   ],
   "source": [
    "N = 0\n",
    "t = 0\n",
    "f = 0\n",
    "for d, v in patients.items():\n",
    "    for s in v:\n",
    "        N += 1\n",
    "        if diagnosis(d,s) == 1:\n",
    "            t += 1\n",
    "        if diagnosis(d,s) == 0:\n",
    "            f += 1\n",
    "print('total:', N)\n",
    "print('Correct:', t)\n",
    "print('Wrong:', N-t-f)\n",
    "print('fail:', f)"
   ]
  },
  {
   "cell_type": "code",
   "execution_count": null,
   "metadata": {},
   "outputs": [],
   "source": [
    "#cube, 0.8\n",
    "N = 0\n",
    "t = 0\n",
    "f = 0\n",
    "for d, v in patients.items():\n",
    "    for s in v:\n",
    "        N += 1\n",
    "        if diagnosis(d,s) == 1:\n",
    "            t += 1\n",
    "        if diagnosis(d,s) == 0:\n",
    "            f += 1\n",
    "print('total:', N)\n",
    "print('Correct:', t)\n",
    "print('Wrong:', N-t-f)\n",
    "print('fail:', f)"
   ]
  },
  {
   "cell_type": "code",
   "execution_count": null,
   "metadata": {},
   "outputs": [],
   "source": [
    "#cube, 0.5\n",
    "N = 0\n",
    "t = 0\n",
    "f = 0\n",
    "for d, v in patients.items():\n",
    "    for s in v:\n",
    "        N += 1\n",
    "        if diagnosis(d,s) == 1:\n",
    "            t += 1\n",
    "        if diagnosis(d,s) == 0:\n",
    "            f += 1\n",
    "print('total:', N)\n",
    "print('Correct:', t)\n",
    "print('Wrong:', N-t-f)\n",
    "print('fail:', f)"
   ]
  },
  {
   "cell_type": "code",
   "execution_count": null,
   "metadata": {},
   "outputs": [],
   "source": [
    "#square, 0.5\n",
    "N = 0\n",
    "t = 0\n",
    "f = 0\n",
    "for d, v in patients.items():\n",
    "    for s in v:\n",
    "        N += 1\n",
    "        if diagnosis(d,s) == 1:\n",
    "            t += 1\n",
    "        if diagnosis(d,s) == 0:\n",
    "            f += 1\n",
    "print('total:', N)\n",
    "print('Correct:', t)\n",
    "print('Wrong:', N-t-f)\n",
    "print('fail:', f)"
   ]
  },
  {
   "cell_type": "code",
   "execution_count": null,
   "metadata": {},
   "outputs": [],
   "source": [
    "#quad, 0.8\n",
    "N = 0\n",
    "t = 0\n",
    "f = 0\n",
    "for d, v in patients.items():\n",
    "    for s in v:\n",
    "        N += 1\n",
    "        if diagnosis(d,s) == 1:\n",
    "            t += 1\n",
    "        if diagnosis(d,s) == 0:\n",
    "            f += 1\n",
    "print('total:', N)\n",
    "print('Correct:', t)\n",
    "print('Wrong:', N-t-f)\n",
    "print('fail:', f)"
   ]
  },
  {
   "cell_type": "code",
   "execution_count": 46,
   "metadata": {},
   "outputs": [
    {
     "data": {
      "text/plain": [
       "0.5614886731391586"
      ]
     },
     "execution_count": 46,
     "metadata": {},
     "output_type": "execute_result"
    }
   ],
   "source": [
    "1041/1854"
   ]
  },
  {
   "cell_type": "code",
   "execution_count": 12,
   "metadata": {},
   "outputs": [],
   "source": [
    "import pandas as pd\n",
    "a = pd.DataFrame(index = [1,2], columns = ['a','b', 'c', 'd'], data = [[1,2,3,4],[1,2,3,4]])\n",
    "b = pd.DataFrame(index = [1], columns = ['a'], data = [2])"
   ]
  },
  {
   "cell_type": "code",
   "execution_count": 14,
   "metadata": {},
   "outputs": [],
   "source": [
    "for i in b.index:\n",
    "    for j in b.columns:\n",
    "        if b.loc[i][j]:\n",
    "            a.loc[i][j] += b.loc[i,j]"
   ]
  },
  {
   "cell_type": "code",
   "execution_count": 16,
   "metadata": {},
   "outputs": [
    {
     "ename": "KeyError",
     "evalue": "'the label [3] is not in the [index]'",
     "output_type": "error",
     "traceback": [
      "\u001b[0;31m---------------------------------------------------------------------------\u001b[0m",
      "\u001b[0;31mKeyError\u001b[0m                                  Traceback (most recent call last)",
      "\u001b[0;32m/srv/jupyterhub/anaconda3/lib/python3.6/site-packages/pandas/core/indexing.py\u001b[0m in \u001b[0;36m_has_valid_type\u001b[0;34m(self, key, axis)\u001b[0m\n\u001b[1;32m   1505\u001b[0m                 \u001b[0;32mif\u001b[0m \u001b[0;32mnot\u001b[0m \u001b[0max\u001b[0m\u001b[0;34m.\u001b[0m\u001b[0mcontains\u001b[0m\u001b[0;34m(\u001b[0m\u001b[0mkey\u001b[0m\u001b[0;34m)\u001b[0m\u001b[0;34m:\u001b[0m\u001b[0;34m\u001b[0m\u001b[0m\n\u001b[0;32m-> 1506\u001b[0;31m                     \u001b[0merror\u001b[0m\u001b[0;34m(\u001b[0m\u001b[0;34m)\u001b[0m\u001b[0;34m\u001b[0m\u001b[0m\n\u001b[0m\u001b[1;32m   1507\u001b[0m             \u001b[0;32mexcept\u001b[0m \u001b[0mTypeError\u001b[0m \u001b[0;32mas\u001b[0m \u001b[0me\u001b[0m\u001b[0;34m:\u001b[0m\u001b[0;34m\u001b[0m\u001b[0m\n",
      "\u001b[0;32m/srv/jupyterhub/anaconda3/lib/python3.6/site-packages/pandas/core/indexing.py\u001b[0m in \u001b[0;36merror\u001b[0;34m()\u001b[0m\n\u001b[1;32m   1500\u001b[0m                                .format(key=key,\n\u001b[0;32m-> 1501\u001b[0;31m                                        axis=self.obj._get_axis_name(axis)))\n\u001b[0m\u001b[1;32m   1502\u001b[0m \u001b[0;34m\u001b[0m\u001b[0m\n",
      "\u001b[0;31mKeyError\u001b[0m: 'the label [3] is not in the [index]'",
      "\nDuring handling of the above exception, another exception occurred:\n",
      "\u001b[0;31mKeyError\u001b[0m                                  Traceback (most recent call last)",
      "\u001b[0;32m<ipython-input-16-e6417294b474>\u001b[0m in \u001b[0;36m<module>\u001b[0;34m()\u001b[0m\n\u001b[0;32m----> 1\u001b[0;31m \u001b[0ma\u001b[0m\u001b[0;34m.\u001b[0m\u001b[0mloc\u001b[0m\u001b[0;34m[\u001b[0m\u001b[0;36m3\u001b[0m\u001b[0;34m]\u001b[0m\u001b[0;34m[\u001b[0m\u001b[0;34m'a'\u001b[0m\u001b[0;34m]\u001b[0m \u001b[0;34m=\u001b[0m \u001b[0;36m3\u001b[0m\u001b[0;34m\u001b[0m\u001b[0m\n\u001b[0m",
      "\u001b[0;32m/srv/jupyterhub/anaconda3/lib/python3.6/site-packages/pandas/core/indexing.py\u001b[0m in \u001b[0;36m__getitem__\u001b[0;34m(self, key)\u001b[0m\n\u001b[1;32m   1371\u001b[0m \u001b[0;34m\u001b[0m\u001b[0m\n\u001b[1;32m   1372\u001b[0m             \u001b[0mmaybe_callable\u001b[0m \u001b[0;34m=\u001b[0m \u001b[0mcom\u001b[0m\u001b[0;34m.\u001b[0m\u001b[0m_apply_if_callable\u001b[0m\u001b[0;34m(\u001b[0m\u001b[0mkey\u001b[0m\u001b[0;34m,\u001b[0m \u001b[0mself\u001b[0m\u001b[0;34m.\u001b[0m\u001b[0mobj\u001b[0m\u001b[0;34m)\u001b[0m\u001b[0;34m\u001b[0m\u001b[0m\n\u001b[0;32m-> 1373\u001b[0;31m             \u001b[0;32mreturn\u001b[0m \u001b[0mself\u001b[0m\u001b[0;34m.\u001b[0m\u001b[0m_getitem_axis\u001b[0m\u001b[0;34m(\u001b[0m\u001b[0mmaybe_callable\u001b[0m\u001b[0;34m,\u001b[0m \u001b[0maxis\u001b[0m\u001b[0;34m=\u001b[0m\u001b[0maxis\u001b[0m\u001b[0;34m)\u001b[0m\u001b[0;34m\u001b[0m\u001b[0m\n\u001b[0m\u001b[1;32m   1374\u001b[0m \u001b[0;34m\u001b[0m\u001b[0m\n\u001b[1;32m   1375\u001b[0m     \u001b[0;32mdef\u001b[0m \u001b[0m_is_scalar_access\u001b[0m\u001b[0;34m(\u001b[0m\u001b[0mself\u001b[0m\u001b[0;34m,\u001b[0m \u001b[0mkey\u001b[0m\u001b[0;34m)\u001b[0m\u001b[0;34m:\u001b[0m\u001b[0;34m\u001b[0m\u001b[0m\n",
      "\u001b[0;32m/srv/jupyterhub/anaconda3/lib/python3.6/site-packages/pandas/core/indexing.py\u001b[0m in \u001b[0;36m_getitem_axis\u001b[0;34m(self, key, axis)\u001b[0m\n\u001b[1;32m   1624\u001b[0m \u001b[0;34m\u001b[0m\u001b[0m\n\u001b[1;32m   1625\u001b[0m         \u001b[0;31m# fall thru to straight lookup\u001b[0m\u001b[0;34m\u001b[0m\u001b[0;34m\u001b[0m\u001b[0m\n\u001b[0;32m-> 1626\u001b[0;31m         \u001b[0mself\u001b[0m\u001b[0;34m.\u001b[0m\u001b[0m_has_valid_type\u001b[0m\u001b[0;34m(\u001b[0m\u001b[0mkey\u001b[0m\u001b[0;34m,\u001b[0m \u001b[0maxis\u001b[0m\u001b[0;34m)\u001b[0m\u001b[0;34m\u001b[0m\u001b[0m\n\u001b[0m\u001b[1;32m   1627\u001b[0m         \u001b[0;32mreturn\u001b[0m \u001b[0mself\u001b[0m\u001b[0;34m.\u001b[0m\u001b[0m_get_label\u001b[0m\u001b[0;34m(\u001b[0m\u001b[0mkey\u001b[0m\u001b[0;34m,\u001b[0m \u001b[0maxis\u001b[0m\u001b[0;34m=\u001b[0m\u001b[0maxis\u001b[0m\u001b[0;34m)\u001b[0m\u001b[0;34m\u001b[0m\u001b[0m\n\u001b[1;32m   1628\u001b[0m \u001b[0;34m\u001b[0m\u001b[0m\n",
      "\u001b[0;32m/srv/jupyterhub/anaconda3/lib/python3.6/site-packages/pandas/core/indexing.py\u001b[0m in \u001b[0;36m_has_valid_type\u001b[0;34m(self, key, axis)\u001b[0m\n\u001b[1;32m   1512\u001b[0m                 \u001b[0;32mraise\u001b[0m\u001b[0;34m\u001b[0m\u001b[0m\n\u001b[1;32m   1513\u001b[0m             \u001b[0;32mexcept\u001b[0m\u001b[0;34m:\u001b[0m\u001b[0;34m\u001b[0m\u001b[0m\n\u001b[0;32m-> 1514\u001b[0;31m                 \u001b[0merror\u001b[0m\u001b[0;34m(\u001b[0m\u001b[0;34m)\u001b[0m\u001b[0;34m\u001b[0m\u001b[0m\n\u001b[0m\u001b[1;32m   1515\u001b[0m \u001b[0;34m\u001b[0m\u001b[0m\n\u001b[1;32m   1516\u001b[0m         \u001b[0;32mreturn\u001b[0m \u001b[0;32mTrue\u001b[0m\u001b[0;34m\u001b[0m\u001b[0m\n",
      "\u001b[0;32m/srv/jupyterhub/anaconda3/lib/python3.6/site-packages/pandas/core/indexing.py\u001b[0m in \u001b[0;36merror\u001b[0;34m()\u001b[0m\n\u001b[1;32m   1499\u001b[0m                 raise KeyError(u\"the label [{key}] is not in the [{axis}]\"\n\u001b[1;32m   1500\u001b[0m                                .format(key=key,\n\u001b[0;32m-> 1501\u001b[0;31m                                        axis=self.obj._get_axis_name(axis)))\n\u001b[0m\u001b[1;32m   1502\u001b[0m \u001b[0;34m\u001b[0m\u001b[0m\n\u001b[1;32m   1503\u001b[0m             \u001b[0;32mtry\u001b[0m\u001b[0;34m:\u001b[0m\u001b[0;34m\u001b[0m\u001b[0m\n",
      "\u001b[0;31mKeyError\u001b[0m: 'the label [3] is not in the [index]'"
     ]
    }
   ],
   "source": [
    "a.loc[3]['a'] = 3"
   ]
  },
  {
   "cell_type": "code",
   "execution_count": null,
   "metadata": {},
   "outputs": [],
   "source": []
  }
 ],
 "metadata": {
  "kernelspec": {
   "display_name": "Python 3",
   "language": "python",
   "name": "python3"
  },
  "language_info": {
   "codemirror_mode": {
    "name": "ipython",
    "version": 3
   },
   "file_extension": ".py",
   "mimetype": "text/x-python",
   "name": "python",
   "nbconvert_exporter": "python",
   "pygments_lexer": "ipython3",
   "version": "3.6.3"
  }
 },
 "nbformat": 4,
 "nbformat_minor": 2
}
