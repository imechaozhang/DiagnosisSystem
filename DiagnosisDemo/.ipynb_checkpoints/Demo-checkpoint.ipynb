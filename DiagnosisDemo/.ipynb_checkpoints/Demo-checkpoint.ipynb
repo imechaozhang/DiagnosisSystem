{
 "cells": [
  {
   "cell_type": "markdown",
   "metadata": {},
   "source": [
    "# Diagnosis System Demo\n",
    "This demo shows how our diagnosis system work. \n",
    "\n",
    "## Problem\n",
    "While we have a lot of resources in the US, African people are suffering from high disease burden and reletively low information technology development. We are aiming to design a diagnosis system for them to help ease the disease burden. \n",
    "Although many US diagnosis systems are working well, the target diseases are quite different from African infectious diseases, which are the main cause of death there. In the mean time, due to a limited access of internet in Africa, US systems are not able to work there.\n",
    "\n",
    "## Solution\n",
    "We are aiming to develop a diagnosis system for Africa people. The system will be able to work offline, while high accuracy and broad spectrum are maintained. \n",
    "We have access to IBM MarketScan medical records and DeepDive text corpus data set, and we collected some common diseases and their corresponding symptoms, both in the US and in Nigeria, the largest country in Africa. \n",
    "The system is designed as following:\n",
    "### Data preparing\n",
    "IBM MarketScan medical records are used to summarized the frequency of different diseases and serve as a prior probability of diagnosis.\n",
    "DeepDive corpus works as training data for the association between diseases and symptoms. The method we use is Word2Vec within gensim library. Combining with the disease information we collected, an association matrix is formed and this matrix is used for an adaptive diagnosis as followed.\n",
    "### Adaptive diagnosis\n",
    "Given the disease-symptom association, and the inputs from the patient, we are able to filter out possible diagnosises for the patient. With a list of possible diagnosis, a reduced association matrix is formed and the most informative symptom is asked. After the answer from the patient is got, the matrix is further reduced. \n",
    "Finally the matrix is reduced to only one line and the diagnosis is done. In this way, not only the final diagnosis result is shown, but also other possible diseases. This is because we have collected a list of symptoms, multiplied by the association matrix, we actually get the probabilities for all disease in our list."
   ]
  },
  {
   "cell_type": "markdown",
   "metadata": {},
   "source": [
    "## Step 1: load data and transform into dataframes or dictionaries"
   ]
  },
  {
   "cell_type": "code",
   "execution_count": 1,
   "metadata": {
    "scrolled": true
   },
   "outputs": [
    {
     "name": "stderr",
     "output_type": "stream",
     "text": [
      "C:\\Users\\zhang\\Anaconda3\\lib\\site-packages\\smart_open\\ssh.py:34: UserWarning: paramiko missing, opening SSH/SCP/SFTP paths will be disabled.  `pip install paramiko` to suppress\n",
      "  warnings.warn('paramiko missing, opening SSH/SCP/SFTP paths will be disabled.  `pip install paramiko` to suppress')\n",
      "C:\\Users\\zhang\\Anaconda3\\lib\\site-packages\\gensim\\utils.py:1197: UserWarning: detected Windows; aliasing chunkize to chunkize_serial\n",
      "  warnings.warn(\"detected Windows; aliasing chunkize to chunkize_serial\")\n"
     ]
    }
   ],
   "source": [
    "import pandas as pd\n",
    "import numpy as np\n",
    "from gensim.models import Word2Vec\n",
    "\n",
    "# The medical dictionary trained from NLP for recognizing natural language\n",
    "meddic = pd.read_csv('../WordEmbedding/trimmed_wv/Dictionary.csv', index_col=0, header = None)\n",
    "\n",
    "# The disease-symptom association matrix\n",
    "WM = pd.read_csv('../WeightMatrix/Dis_Sym_30.csv', index_col=0)\n",
    "\n",
    "# The association between medical words and UMLS codes. The association matrix is shown as unified codes.\n",
    "dis2sym = pd.read_csv('../UMLS/dis_symptom.csv', header=None)\n",
    "\n",
    "\n",
    "# processing for matching of medical codes and medical terms, and the disease population information.\n",
    "dis2sym.fillna(method='ffill',inplace=True)\n",
    "\n",
    "umls_dis = {}\n",
    "umls_sym = {}\n",
    "dis_num = {}\n",
    "for i in dis2sym.index:\n",
    "    temp = dis2sym.loc[i][0]\n",
    "    items = temp.split('^')\n",
    "    item = items[0].strip('UMLS:').split('_')\n",
    "    if len(item) != 2: continue\n",
    "    umls_dis[item[0]] = item[1]\n",
    "    dis_num[item[0]] = int(dis2sym.loc[i][1])\n",
    "for i in dis2sym.index:\n",
    "    temp = dis2sym.loc[i][2]\n",
    "    items = temp.split('^')\n",
    "    item = items[0].strip('UMLS:').split('_')\n",
    "    if len(item) != 2: continue\n",
    "    umls_sym[item[0]] = item[1]\n",
    "    \n",
    "rev_sym = {v: k for k, v in umls_sym.items()}\n",
    "rev_dis = {v: k for k, v in umls_dis.items()}\n",
    "\n"
   ]
  },
  {
   "cell_type": "markdown",
   "metadata": {},
   "source": [
    "## Function definitions"
   ]
  },
  {
   "cell_type": "code",
   "execution_count": 2,
   "metadata": {},
   "outputs": [],
   "source": [
    "# inputs for basic information of the patient\n",
    "def initial_input():\n",
    "    # initial input part\n",
    "    gendermap = {'F':'Female', 'M': 'Male'}\n",
    "    print('Please type in the gender for the patient. F for female and M for male')\n",
    "    g = input()\n",
    "    gender = gendermap[g]\n",
    "    print('Please type in the age for the patient in years.')\n",
    "    age = int(input())\n",
    "    print('What symptom do you have?')\n",
    "    sym = input()\n",
    "    \n",
    "    return gender, age, sym"
   ]
  },
  {
   "cell_type": "markdown",
   "metadata": {},
   "source": [
    "### findsynonym function finds the closest medical terms for the natural language inputs\n",
    "For example, you input 'coughing', 'cough' will be found and the UMLS code for cough is found and used for further diagnosis"
   ]
  },
  {
   "cell_type": "code",
   "execution_count": 3,
   "metadata": {},
   "outputs": [],
   "source": [
    "import re\n",
    "def findsynonym(sym):\n",
    "    if sym in rev_sym:\n",
    "        return rev_sym[sym]\n",
    "    \n",
    "    if sym in meddic.index:\n",
    "        return meddic.loc[sym][1]"
   ]
  },
  {
   "cell_type": "markdown",
   "metadata": {},
   "source": [
    "### SelectMatrix function reduces the association matrix to smaller ones\n",
    "By choosing only the diseases that matches current symptoms, and the symtoms associated with these diseases."
   ]
  },
  {
   "cell_type": "code",
   "execution_count": 4,
   "metadata": {},
   "outputs": [],
   "source": [
    "def SelectedMatrix(sym):\n",
    "    selected = WM[WM[sym] != 0]\n",
    "    selected = selected.drop(columns=[sym])\n",
    "    for c in selected.columns:\n",
    "        if sum(selected[c]) == 0:\n",
    "            selected.drop(columns=[c],inplace=True)\n",
    "    return selected\n",
    "    "
   ]
  },
  {
   "cell_type": "markdown",
   "metadata": {},
   "source": [
    "### Renorm function renormalized the diagnosis vector via softmax\n",
    "to distinguish the large amount of diseases and maintain a sum of unity"
   ]
  },
  {
   "cell_type": "code",
   "execution_count": 5,
   "metadata": {},
   "outputs": [],
   "source": [
    "T = 0.03\n",
    "def renorm(dia):\n",
    "    dia.sort_values(ascending=False, inplace=True)\n",
    "    dia.reset_index(drop=True)\n",
    "    s = sum([np.exp(ai/T) for ai in dia])\n",
    "    return np.exp(dia/T)/s"
   ]
  },
  {
   "cell_type": "markdown",
   "metadata": {},
   "source": [
    "### Diagnosis function does the diagnosis\n",
    "* step 1: Get the initial input including gender, age and a symptom\n",
    "* step 2: Choose a most informative question to ask and get answer from the patient\n",
    "* step 3: Reduce the association matrix \n",
    "* step 4: Check whether there is only one disease left in the reduced, if not go back step 2\n",
    "* step 5: Calculate the diagnosis vector from the symptoms multiplied by the association matrix\n",
    "* step 6: renormalized the diagnosis vector and print out the top five possible diseases\n",
    "* step 7: Use the Bing Web Search SDK to find more information about the diagnosis result"
   ]
  },
  {
   "cell_type": "code",
   "execution_count": 6,
   "metadata": {},
   "outputs": [],
   "source": [
    "def diagnosis():\n",
    "    \n",
    "    gender, age, sym = initial_input()\n",
    "    \n",
    "    sym = findsynonym(sym)\n",
    "    \n",
    "    selected = SelectedMatrix(sym)\n",
    "    \n",
    "    #The response vector\n",
    "    res = pd.Series(index=WM.columns, data=[0]*len(WM.columns))\n",
    "    res[sym] = 1\n",
    "    \n",
    "    #Diagnosis process\n",
    "    while True:\n",
    "        # compute the probabilities\n",
    "        dia = WM.dot(res)\n",
    "        \n",
    "        # drop the columns with no information\n",
    "        for j in selected.columns:\n",
    "            if 0 not in selected[j].value_counts():\n",
    "                res[j] = 1\n",
    "                selected.drop(columns=[j], inplace = True)  \n",
    "        \n",
    "        # the diagnosis criterion\n",
    "        if len(selected) == 1:\n",
    "            dia = renorm(dia)\n",
    "            print('-----------------------------------------------------------')\n",
    "            print('Diagnosis results:')\n",
    "            for i in range(len(dia)):\n",
    "                if i < 5:\n",
    "                    print(umls_dis[dia.keys()[i]], ':%2d'%(dia[i]*100), '%')\n",
    "            print('-----------------------------------------------------------')        \n",
    "            return umls_dis[dia.keys()[0]]\n",
    "            \n",
    "        #choose the most relevant symptom to ask: The symptom that are least shared with other diseases\n",
    "        next_i = selected.columns[0]\n",
    "        s = 100\n",
    "        for i in selected.columns:   \n",
    "            if 0 in selected[i].value_counts():\n",
    "                pri = abs(selected[i].value_counts()[0] - len(selected)/2)\n",
    "                if pri < s:\n",
    "                    s = pri\n",
    "                    next_i = i      \n",
    "            else:\n",
    "                res[next_i] = 1\n",
    "                selected = selected[selected[next_i]!=0]\n",
    "         \n",
    "        print('-----------------------------------------------------------')\n",
    "        print('Do you have the following symptom: (Y for Yes and N for No)')\n",
    "        print(umls_sym[next_i])\n",
    "        \n",
    "        answer = input()\n",
    "        while answer != 'Y' and answer != 'N':\n",
    "            answer = input()\n",
    "              \n",
    "        if answer == 'Y':\n",
    "            res[next_i] = 1\n",
    "            selected = selected[selected[next_i]!=0]\n",
    "        else:\n",
    "            res[next_i] = 0\n",
    "            selected = selected[selected[next_i]==0]\n",
    "            \n",
    "        selected.drop(columns=[next_i], inplace = True)"
   ]
  },
  {
   "cell_type": "markdown",
   "metadata": {},
   "source": [
    "### Azure Bing web search for diagnosis result"
   ]
  },
  {
   "cell_type": "code",
   "execution_count": 7,
   "metadata": {},
   "outputs": [],
   "source": [
    "# Import required modules.\n",
    "from azure.cognitiveservices.search.websearch import WebSearchAPI\n",
    "from azure.cognitiveservices.search.websearch.models import SafeSearch\n",
    "from msrest.authentication import CognitiveServicesCredentials\n",
    "\n",
    "# Replace with your subscription key.\n",
    "subscription_key = \"3b4066fbe4774c6da3a47e7a5399b440\"\n",
    "\n",
    "# Instantiate the client and replace with your endpoint.\n",
    "client = WebSearchAPI(CognitiveServicesCredentials(subscription_key), base_url = \"https://bingtril.cognitiveservices.azure.com/bing/v7.0\")\n",
    "\n",
    "def bing(diagnosis):\n",
    "\n",
    "    # Make a request. Replace Yosemite if you'd like.\n",
    "    web_data = client.web.search(query=diagnosis)\n",
    "\n",
    "    '''\n",
    "    Web pages\n",
    "    If the search response contains web pages, the first result's name and url\n",
    "    are printed.\n",
    "    '''\n",
    "    if hasattr(web_data.web_pages, 'value'):\n",
    "\n",
    "        print(\"\\r\\nWebpage Results#{}\".format(len(web_data.web_pages.value)))\n",
    "\n",
    "        first_web_page = web_data.web_pages.value[0]\n",
    "        print(\"First web page name: {} \".format(first_web_page.name))\n",
    "        print(\"First web page URL: {} \".format(first_web_page.url))\n",
    "\n",
    "    else:\n",
    "        print(\"Didn't find any web pages...\")\n",
    "    return"
   ]
  },
  {
   "cell_type": "markdown",
   "metadata": {},
   "source": [
    "## An example of diagnosis process\n",
    "1. diagnosis process\n",
    "2. bing web search based on the outcome of diagnosis"
   ]
  },
  {
   "cell_type": "code",
   "execution_count": 9,
   "metadata": {
    "scrolled": false
   },
   "outputs": [
    {
     "name": "stdout",
     "output_type": "stream",
     "text": [
      "Please type in the gender for the patient. F for female and M for male\n",
      "M\n",
      "Please type in the age for the patient in years.\n",
      "24\n",
      "What symptom do you have?\n",
      "pain chest\n",
      "-----------------------------------------------------------\n",
      "Do you have the following symptom: (Y for Yes and N for No)\n",
      "sweat\n",
      "Y\n",
      "-----------------------------------------------------------\n",
      "Do you have the following symptom: (Y for Yes and N for No)\n",
      "palpitation\n",
      "Y\n",
      "-----------------------------------------------------------\n",
      "Do you have the following symptom: (Y for Yes and N for No)\n",
      "dizziness\n",
      "Y\n",
      "-----------------------------------------------------------\n",
      "Do you have the following symptom: (Y for Yes and N for No)\n",
      "asthenia\n",
      "Y\n",
      "-----------------------------------------------------------\n",
      "Diagnosis results:\n",
      "hypertensive disease :69 %\n",
      "hyperlipidemia :28 %\n",
      "coronary arteriosclerosis : 1 %\n",
      "kidney disease : 0 %\n",
      "paroxysmal dyspnea : 0 %\n",
      "-----------------------------------------------------------\n"
     ]
    },
    {
     "data": {
      "text/plain": [
       "'hypertensive disease'"
      ]
     },
     "execution_count": 9,
     "metadata": {},
     "output_type": "execute_result"
    }
   ],
   "source": [
    "diagnosis()"
   ]
  },
  {
   "cell_type": "code",
   "execution_count": 10,
   "metadata": {},
   "outputs": [
    {
     "name": "stdout",
     "output_type": "stream",
     "text": [
      "\r\n",
      "Webpage Results#9\n",
      "First web page name: Hypertensive Heart Disease: Types, Symptoms, and Diagnosis \n",
      "First web page URL: https://www.healthline.com/health/hypertensive-heart-disease \n"
     ]
    }
   ],
   "source": [
    "bing('hypertensive disease')"
   ]
  },
  {
   "cell_type": "code",
   "execution_count": null,
   "metadata": {},
   "outputs": [],
   "source": []
  }
 ],
 "metadata": {
  "kernelspec": {
   "display_name": "Python 3",
   "language": "python",
   "name": "python3"
  },
  "language_info": {
   "codemirror_mode": {
    "name": "ipython",
    "version": 3
   },
   "file_extension": ".py",
   "mimetype": "text/x-python",
   "name": "python",
   "nbconvert_exporter": "python",
   "pygments_lexer": "ipython3",
   "version": "3.6.3"
  }
 },
 "nbformat": 4,
 "nbformat_minor": 2
}
