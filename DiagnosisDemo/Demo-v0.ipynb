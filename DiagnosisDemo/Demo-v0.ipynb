{
 "cells": [
  {
   "cell_type": "markdown",
   "metadata": {},
   "source": [
    "# Toy model\n",
    "This is a toy model of a diagnosis system based on the MSDX data and 5MCC document.This demo is interactive and adaptive. Given the input from the patients or physicians, a question is asked based on their answer, and a diagnosis is made if certain crtiria is met. "
   ]
  },
  {
   "cell_type": "markdown",
   "metadata": {},
   "source": [
    "## 1. load data in the back-end"
   ]
  },
  {
   "cell_type": "code",
   "execution_count": 212,
   "metadata": {},
   "outputs": [],
   "source": [
    "import pandas as pd\n",
    "dist_f = pd.read_csv('../MarketScan/nfemale.csv', dtype=str, index_col=0)\n",
    "dist_m = pd.read_csv('../MarketScan/nmale.csv', dtype=str, index_col=0)\n",
    "sym2code = pd.read_csv('../ClinicalConsult/Sym2ICD.csv', index_col=0)\n",
    "code2sym = pd.read_csv('../ClinicalConsult/ICD2Sym.csv', index_col=0)\n",
    "\n",
    "# Strings to lists\n",
    "def s2list(s):\n",
    "    return s.strip(\"['\").strip(\"']\").split(\"', '\")\n",
    "sym2code['Codes'] = sym2code['Codes'].apply(s2list)\n",
    "code2sym['Symptoms'] = code2sym['Symptoms'].apply(s2list)\n",
    "\n",
    "# Symptoms to ICD codes\n",
    "s2c = {}\n",
    "for i in sym2code.index:\n",
    "    s2c[sym2code.loc[i]['Symptoms']] = sym2code.loc[i]['Codes']\n",
    "    \n",
    "c2s = {}\n",
    "for i in code2sym.index:\n",
    "    c2s[code2sym.loc[i]['Codes']] = code2sym.loc[i]['Symptoms']"
   ]
  },
  {
   "cell_type": "markdown",
   "metadata": {},
   "source": [
    "## 2. The main diagnosis process"
   ]
  },
  {
   "cell_type": "code",
   "execution_count": 213,
   "metadata": {},
   "outputs": [],
   "source": [
    "def diagnosis():\n",
    "    # initial input part\n",
    "    gendermap = {'0':'Female', '1': 'Male'}\n",
    "    print('Please type in the gender for the patient. 0 for female and 1 for male')\n",
    "    g = input()\n",
    "    gender = gendermap[g]\n",
    "    print('Please type in the age for the patient in years.')\n",
    "    age = int(input())\n",
    "    print('What symptom do you have?')\n",
    "    sym = input()\n",
    "    \n",
    "    Symptoms = set()\n",
    "    \n",
    "    if gender == 'Male':\n",
    "        Dis_list = dist_m[str(age)]\n",
    "    elif gender == 'Female':\n",
    "        Dis_list = dist_f[str(age)]\n",
    "    else:\n",
    "        print('Sorry your gender is not recognized.')\n",
    "        return -1\n",
    "    Dis_list=Dis_list.apply(float)\n",
    "    Dis_list.dropna(inplace=True)\n",
    "    for i in Dis_list.index:\n",
    "        if Dis_list[i]<10:\n",
    "            Dis_list.drop(i, inplace=True)\n",
    "    \n",
    "    \n",
    "    Diseases = {}\n",
    "    for s in s2c.keys():\n",
    "        if sym in str(s):\n",
    "            Symptoms.add(s)\n",
    "            for dis in s2c[s]:\n",
    "                if dis in Dis_list:\n",
    "                    Diseases[dis] = Dis_list[dis]\n",
    "    \n",
    "    print(\"Initial guess for the diagnosis includes:\")\n",
    "    print(Diseases.keys())\n",
    "    \n",
    "    # Start diagnosis\n",
    "    while True:    \n",
    "        total = sum(Diseases.values())\n",
    "        for i in Diseases.keys():\n",
    "            Diseases[i] /= total\n",
    "        Dis_sorted = sorted(Diseases.items(), key = lambda item: item[1], reverse=True)\n",
    "        \n",
    "        slist = list(set(c2s[Dis_sorted[0][0]]) - set(Symptoms))\n",
    "        \n",
    "        if max(Diseases.values()) > 0.8 or len(Diseases) == 1 or len(slist)==0:\n",
    "            print('Diagnosis done. The possible diseases are:')\n",
    "            print(Dis_sorted)\n",
    "            return 0\n",
    "        \n",
    "        print('Do you have the following symptom: (Y for Yes and N for No)')\n",
    "        print(slist[0])\n",
    "        answer = input()\n",
    "        while answer != 'Y' and answer != 'N':\n",
    "            answer = input()\n",
    "        \n",
    "        if answer == 'Y':\n",
    "            Symptoms.add(slist[0])\n",
    "            Diseases[Dis_sorted[0][0]] *= 2\n",
    "        else:\n",
    "            Diseases.pop(Dis_sorted[0][0])\n",
    "        "
   ]
  },
  {
   "cell_type": "code",
   "execution_count": 211,
   "metadata": {
    "scrolled": true
   },
   "outputs": [
    {
     "name": "stdout",
     "output_type": "stream",
     "text": [
      "Please type in the gender for the patient. 0 for female and 1 for male\n",
      "1\n",
      "Please type in the age for the patient in years.\n",
      "10\n",
      "What symptom do you have?\n",
      "cough\n",
      "Initial guess for the diagnosis includes:\n",
      "dict_keys(['034.0', '993.2', '464.10', '464.20', '530.81', '495.9', '117.9', '494.0', '033.9', '162.9', '560.0', '491.8', '989.5', '995.0', '493.00', '788.30', '115.90', '492.8', '464.30', '300.7', '693.1', '483.0', '428.0', '078.5', '287.0', '507.0', '394.0', '088.82', '446.1', '520.7'])\n",
      "Do you have the following symptom: (Y for Yes and N for No)\n",
      "Sore throat\n",
      "Y\n",
      "Do you have the following symptom: (Y for Yes and N for No)\n",
      "Tonsillar exudates\n",
      "Y\n",
      "Diagnosis done. The possible diseases are:\n",
      "[('034.0', 0.87266149194086162), ('493.00', 0.060345935512343921), ('530.81', 0.026894509795363113), ('788.30', 0.010994473664428489), ('693.1', 0.010519194255908861), ('989.5', 0.0069133754780074143), ('483.0', 0.0030796165756118614), ('995.0', 0.0017628986224171835), ('464.10', 0.0014840357041531174), ('464.20', 0.0010184558753991982), ('287.0', 0.00074201785207655871), ('033.9', 0.00061592331512237231), ('446.1', 0.00053347688711386572), ('117.9', 0.00038555829568683931), ('494.0', 0.00031766123732689274), ('507.0', 0.00030796165756118615), ('491.8', 0.00025703886379122622), ('520.7', 0.00024006459920123961), ('428.0', 0.00020611607002126627), ('993.2', 0.00012851943189561311), ('560.0', 0.00010427048248134648), ('495.9', 9.4570902715639812e-05), ('492.8', 7.5171743184226537e-05), ('078.5', 6.7897058359946545e-05), ('394.0', 5.3347688711386575e-05), ('088.82', 4.3648108945679917e-05), ('162.9', 3.8798319062826598e-05), ('115.90', 3.8798319062826598e-05), ('464.30', 3.8798319062826598e-05), ('300.7', 3.6373424121399932e-05)]\n"
     ]
    },
    {
     "data": {
      "text/plain": [
       "0"
      ]
     },
     "execution_count": 211,
     "metadata": {},
     "output_type": "execute_result"
    }
   ],
   "source": [
    "diagnosis()"
   ]
  },
  {
   "cell_type": "code",
   "execution_count": 215,
   "metadata": {
    "scrolled": false
   },
   "outputs": [
    {
     "name": "stdout",
     "output_type": "stream",
     "text": [
      "Please type in the gender for the patient. 0 for female and 1 for male\n",
      "1\n",
      "Please type in the age for the patient in years.\n",
      "24\n",
      "What symptom do you have?\n",
      "cough\n",
      "Initial guess for the diagnosis includes:\n",
      "dict_keys(['034.0', '993.2', '464.10', '464.20', '530.81', '495.9', '117.9', '494.0', '055.9', '033.9', '162.9', '560.0', '491.8', '989.5', '002.0', '482.83', '995.0', '493.00', '788.30', '115.90', '492.8', '464.30', '300.7', '693.1', '483.0', '428.0', '078.5', '287.0', '507.0', '394.0', '088.82', '446.1', '078.88', '446.5'])\n",
      "Do you have the following symptom: (Y for Yes and N for No)\n",
      "Bronchospasm (asthma) (15–20%)\n",
      "Y\n",
      "Do you have the following symptom: (Y for Yes and N for No)\n",
      "Loss of dental enamel\n",
      "Y\n",
      "Do you have the following symptom: (Y for Yes and N for No)\n",
      "Regurgitation of undigested food, sour or acid taste in mouth\n",
      "Y\n",
      "Diagnosis done. The possible diseases are:\n",
      "[('530.81', 0.87198118549563719), ('034.0', 0.065995428637560388), ('493.00', 0.029304665186967064), ('989.5', 0.0074108976981991466), ('693.1', 0.0059683972538759431), ('788.30', 0.0041911044428187029), ('428.0', 0.0023518130453292325), ('995.0', 0.0020542198304545319), ('117.9', 0.0015375649435192876), ('078.88', 0.0013350362278406716), ('507.0', 0.0010953083603027181), ('464.20', 0.00087624668824217464), ('464.10', 0.00085971373186024668), ('494.0', 0.00084731401457380077), ('483.0', 0.00050838840874428064), ('300.7', 0.00042159038773915942), ('078.5', 0.00040092419226174969), ('492.8', 0.0003967909531662677), ('287.0', 0.00033892560582952035), ('560.0', 0.00023146138934698952), ('491.8', 0.00022319491115602559), ('993.2', 0.00021079519386957971), ('162.9', 0.00019839547658313385), ('088.82', 0.00018599575929668799), ('033.9', 0.00014466336834186843), ('394.0', 0.00013226365105542258), ('464.30', 0.00011986393376897672), ('495.9', 0.0001115974555780128), ('482.83', 0.00010746421648253084), ('446.1', 0.00010333097738704889), ('115.90', 9.9197738291566926e-05), ('446.5', 9.9197738291566926e-05), ('055.9', 8.6798021005121055e-05), ('002.0', 7.026506462319325e-05)]\n"
     ]
    },
    {
     "data": {
      "text/plain": [
       "0"
      ]
     },
     "execution_count": 215,
     "metadata": {},
     "output_type": "execute_result"
    }
   ],
   "source": [
    "diagnosis()"
   ]
  },
  {
   "cell_type": "code",
   "execution_count": null,
   "metadata": {},
   "outputs": [],
   "source": []
  }
 ],
 "metadata": {
  "kernelspec": {
   "display_name": "Python 3",
   "language": "python",
   "name": "python3"
  },
  "language_info": {
   "codemirror_mode": {
    "name": "ipython",
    "version": 3
   },
   "file_extension": ".py",
   "mimetype": "text/x-python",
   "name": "python",
   "nbconvert_exporter": "python",
   "pygments_lexer": "ipython3",
   "version": "3.6.3"
  }
 },
 "nbformat": 4,
 "nbformat_minor": 2
}
