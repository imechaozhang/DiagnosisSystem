{
 "cells": [
  {
   "cell_type": "markdown",
   "metadata": {},
   "source": [
    "# Diagnosis System version 2 -- test\n",
    "This is a testing version for our diagnosis system. Virtual patients are generated and diagnosed with the system, and the accuracy is calculated."
   ]
  },
  {
   "cell_type": "code",
   "execution_count": 3,
   "metadata": {
    "scrolled": true
   },
   "outputs": [],
   "source": [
    "# load data\n",
    "import pandas as pd\n",
    "import numpy as np\n",
    "\n",
    "WM = pd.read_csv('../WeightMatrix/Dis_Sym_Matrix.csv', index_col=0)\n",
    "\n",
    "dis2sym = pd.read_csv('../WeightMatrix/dis_symptom.csv', header=None)\n",
    "\n",
    "dis2sym.fillna(method='ffill',inplace=True)\n",
    "\n",
    "umls_dis = {}\n",
    "umls_sym = {}\n",
    "dis_num = {}\n",
    "for i in dis2sym.index:\n",
    "    temp = dis2sym.loc[i][0]\n",
    "    items = temp.split('^')\n",
    "    item = items[0].strip('UMLS:').split('_')\n",
    "    if len(item) != 2: continue\n",
    "    umls_dis[item[0]] = item[1]\n",
    "    dis_num[item[0]] = int(dis2sym.loc[i][1])\n",
    "for i in dis2sym.index:\n",
    "    temp = dis2sym.loc[i][2]\n",
    "    items = temp.split('^')\n",
    "    item = items[0].strip('UMLS:').split('_')\n",
    "    if len(item) != 2: continue\n",
    "    umls_sym[item[0]] = item[1]\n",
    "    \n",
    "rev_sym = {v: k for k, v in umls_sym.items()}\n",
    "rev_dis = {v: k for k, v in umls_dis.items()}\n",
    "\n"
   ]
  },
  {
   "cell_type": "code",
   "execution_count": 4,
   "metadata": {},
   "outputs": [],
   "source": [
    "patients = {}\n",
    "\n",
    "for i in WM.index:\n",
    "    patients[i] = []\n",
    "    for j in WM.columns:\n",
    "        if WM.loc[i][j] != 0:\n",
    "            patients[i].append(j)\n",
    "#patients"
   ]
  },
  {
   "cell_type": "code",
   "execution_count": 5,
   "metadata": {},
   "outputs": [],
   "source": [
    "#patients"
   ]
  },
  {
   "cell_type": "code",
   "execution_count": 6,
   "metadata": {},
   "outputs": [],
   "source": [
    "def SelectedMatrix(sym):\n",
    "    selected = WM[WM[sym] != 0]\n",
    "    selected = selected.drop(columns=[sym])\n",
    "    for c in selected.columns:\n",
    "        if sum(selected[c]) == 0:\n",
    "            selected.drop(columns=[c],inplace=True)\n",
    "    return selected\n",
    "    "
   ]
  },
  {
   "cell_type": "code",
   "execution_count": 7,
   "metadata": {},
   "outputs": [],
   "source": [
    "def renorm(dia):\n",
    "    dia.sort_values(ascending=False, inplace=True)\n",
    "    temp = dia\n",
    "    \n",
    "    s = sum(temp[:5])\n",
    "    return temp/s"
   ]
  },
  {
   "cell_type": "code",
   "execution_count": 47,
   "metadata": {},
   "outputs": [],
   "source": [
    "def diagnosis(dis, sym):\n",
    "        \n",
    "    selected = SelectedMatrix(sym)\n",
    "    \n",
    "    #The response vector\n",
    "    res = pd.Series(index=WM.columns, data=[0]*len(WM.columns))\n",
    "    res[sym] = 1\n",
    "    \n",
    "    #Diagnosis process\n",
    "    while True:\n",
    "        dia = WM.dot(res)\n",
    "        if len(selected) == 1:\n",
    "            #dia[selected.index[0]] = 1\n",
    "            dia.sort_values(ascending=False, inplace=True)\n",
    "            if dia.keys()[0] == dis:\n",
    "                return 1\n",
    "            else:\n",
    "                return -1\n",
    "        elif len(selected.columns) == 1:\n",
    "            return 0\n",
    "            \n",
    "        #choose the most relevant symptom to ask: The symptom that are least shared with other diseases\n",
    "        next_i = selected.columns[0]\n",
    "        s = 0        \n",
    "        for i in selected.columns:   \n",
    "            if 0 in selected[i].value_counts():\n",
    "                pri = selected[i].value_counts()[0]\n",
    "                if pri > s:\n",
    "                    s = pri\n",
    "                    next_i = i\n",
    "            else:\n",
    "                res[next_i] = 1\n",
    "                selected.drop(columns=[i], inplace = True)    \n",
    "        \n",
    "        if next_i in patients[dis]:\n",
    "            res[next_i] = 1\n",
    "            selected = selected[selected[next_i]!=0]\n",
    "        else:\n",
    "            res[next_i] = 0\n",
    "            selected = selected[selected[next_i]==0]\n",
    "            \n",
    "        selected.drop(columns=[next_i], inplace = True)\n",
    "    "
   ]
  },
  {
   "cell_type": "code",
   "execution_count": 48,
   "metadata": {},
   "outputs": [
    {
     "name": "stdout",
     "output_type": "stream",
     "text": [
      "total: 1854\n",
      "Correct: 684\n",
      "Wrong: 1170\n",
      "fail: 0\n"
     ]
    }
   ],
   "source": [
    "N = 0\n",
    "t = 0\n",
    "f = 0\n",
    "for d, v in patients.items():\n",
    "    for s in v:\n",
    "        N += 1\n",
    "        if diagnosis(d,s) == 1:\n",
    "            t += 1\n",
    "        if diagnosis(d,s) == 0:\n",
    "            f += 1\n",
    "print('total:', N)\n",
    "print('Correct:', t)\n",
    "print('Wrong:', N-t-f)\n",
    "print('fail:', f)"
   ]
  },
  {
   "cell_type": "code",
   "execution_count": 43,
   "metadata": {},
   "outputs": [
    {
     "name": "stdout",
     "output_type": "stream",
     "text": [
      "total: 1854\n",
      "Correct: 1854\n",
      "Wrong: 0\n",
      "fail: 0\n"
     ]
    }
   ],
   "source": [
    "N = 0\n",
    "t = 0\n",
    "f = 0\n",
    "for d, v in patients.items():\n",
    "    for s in v:\n",
    "        N += 1\n",
    "        if diagnosis(d,s) == 1:\n",
    "            t += 1\n",
    "        if diagnosis(d,s) == 0:\n",
    "            f += 1\n",
    "print('total:', N)\n",
    "print('Correct:', t)\n",
    "print('Wrong:', N-t-f)\n",
    "print('fail:', f)"
   ]
  },
  {
   "cell_type": "code",
   "execution_count": null,
   "metadata": {},
   "outputs": [],
   "source": [
    "#cube, 0.8\n",
    "N = 0\n",
    "t = 0\n",
    "f = 0\n",
    "for d, v in patients.items():\n",
    "    for s in v:\n",
    "        N += 1\n",
    "        if diagnosis(d,s) == 1:\n",
    "            t += 1\n",
    "        if diagnosis(d,s) == 0:\n",
    "            f += 1\n",
    "print('total:', N)\n",
    "print('Correct:', t)\n",
    "print('Wrong:', N-t-f)\n",
    "print('fail:', f)"
   ]
  },
  {
   "cell_type": "code",
   "execution_count": null,
   "metadata": {},
   "outputs": [],
   "source": [
    "#cube, 0.5\n",
    "N = 0\n",
    "t = 0\n",
    "f = 0\n",
    "for d, v in patients.items():\n",
    "    for s in v:\n",
    "        N += 1\n",
    "        if diagnosis(d,s) == 1:\n",
    "            t += 1\n",
    "        if diagnosis(d,s) == 0:\n",
    "            f += 1\n",
    "print('total:', N)\n",
    "print('Correct:', t)\n",
    "print('Wrong:', N-t-f)\n",
    "print('fail:', f)"
   ]
  },
  {
   "cell_type": "code",
   "execution_count": null,
   "metadata": {},
   "outputs": [],
   "source": [
    "#square, 0.5\n",
    "N = 0\n",
    "t = 0\n",
    "f = 0\n",
    "for d, v in patients.items():\n",
    "    for s in v:\n",
    "        N += 1\n",
    "        if diagnosis(d,s) == 1:\n",
    "            t += 1\n",
    "        if diagnosis(d,s) == 0:\n",
    "            f += 1\n",
    "print('total:', N)\n",
    "print('Correct:', t)\n",
    "print('Wrong:', N-t-f)\n",
    "print('fail:', f)"
   ]
  },
  {
   "cell_type": "code",
   "execution_count": null,
   "metadata": {},
   "outputs": [],
   "source": [
    "#quad, 0.8\n",
    "N = 0\n",
    "t = 0\n",
    "f = 0\n",
    "for d, v in patients.items():\n",
    "    for s in v:\n",
    "        N += 1\n",
    "        if diagnosis(d,s) == 1:\n",
    "            t += 1\n",
    "        if diagnosis(d,s) == 0:\n",
    "            f += 1\n",
    "print('total:', N)\n",
    "print('Correct:', t)\n",
    "print('Wrong:', N-t-f)\n",
    "print('fail:', f)"
   ]
  },
  {
   "cell_type": "code",
   "execution_count": 46,
   "metadata": {},
   "outputs": [
    {
     "data": {
      "text/plain": [
       "0.5614886731391586"
      ]
     },
     "execution_count": 46,
     "metadata": {},
     "output_type": "execute_result"
    }
   ],
   "source": [
    "1041/1854"
   ]
  },
  {
   "cell_type": "code",
   "execution_count": 37,
   "metadata": {},
   "outputs": [],
   "source": [
    "import pandas as pd\n",
    "a = pd.Series(index = [1,2,3,4], data = [1,2,3,4])\n",
    "b = pd.DataFrame(index = [1], data = [2])"
   ]
  },
  {
   "cell_type": "code",
   "execution_count": 39,
   "metadata": {},
   "outputs": [
    {
     "data": {
      "text/plain": [
       "1"
      ]
     },
     "execution_count": 39,
     "metadata": {},
     "output_type": "execute_result"
    }
   ],
   "source": [
    "b.index[0]"
   ]
  },
  {
   "cell_type": "code",
   "execution_count": null,
   "metadata": {},
   "outputs": [],
   "source": []
  }
 ],
 "metadata": {
  "kernelspec": {
   "display_name": "Python 3",
   "language": "python",
   "name": "python3"
  },
  "language_info": {
   "codemirror_mode": {
    "name": "ipython",
    "version": 3
   },
   "file_extension": ".py",
   "mimetype": "text/x-python",
   "name": "python",
   "nbconvert_exporter": "python",
   "pygments_lexer": "ipython3",
   "version": "3.6.3"
  }
 },
 "nbformat": 4,
 "nbformat_minor": 2
}
