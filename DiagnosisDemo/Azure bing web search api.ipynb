{
 "cells": [
  {
   "cell_type": "code",
   "execution_count": 1,
   "metadata": {},
   "outputs": [
    {
     "name": "stdout",
     "output_type": "stream",
     "text": [
      "Collecting azure-cognitiveservices-search-websearch\n",
      "  Downloading https://files.pythonhosted.org/packages/73/32/01ead5d597f9c4f6c7891cc89e49d8aefe6943d833690c698e721717480b/azure_cognitiveservices_search_websearch-1.0.0-py2.py3-none-any.whl (100kB)\n",
      "Collecting azure-common~=1.1 (from azure-cognitiveservices-search-websearch)\n",
      "  Downloading https://files.pythonhosted.org/packages/00/55/a703923c12cd3172d5c007beda0c1a34342a17a6a72779f8a7c269af0cd6/azure_common-1.1.23-py2.py3-none-any.whl\n",
      "Collecting azure-cognitiveservices-search-nspkg>=2.0.0 (from azure-cognitiveservices-search-websearch)\n",
      "  Downloading https://files.pythonhosted.org/packages/a8/42/8b5be1963684e1a539aa99bcd6803019c19bde5d96a83667c0ad8a6cbfb8/azure_cognitiveservices_search_nspkg-3.0.1-py3-none-any.whl\n",
      "Collecting msrest<2.0.0,>=0.4.28 (from azure-cognitiveservices-search-websearch)\n",
      "  Downloading https://files.pythonhosted.org/packages/65/31/3a559abf6fc7355234088ad076a49e932ca2f952fe2fa6c49c89fa7f483d/msrest-0.6.9-py2.py3-none-any.whl (82kB)\n",
      "Collecting azure-cognitiveservices-nspkg>=3.0.0 (from azure-cognitiveservices-search-nspkg>=2.0.0->azure-cognitiveservices-search-websearch)\n",
      "  Downloading https://files.pythonhosted.org/packages/57/77/c7eae2b8869cffcff73d7c4a343932e1a94ad15a7bcf506f5fef4e08275a/azure_cognitiveservices_nspkg-3.0.1-py3-none-any.whl\n",
      "Collecting requests-oauthlib>=0.5.0 (from msrest<2.0.0,>=0.4.28->azure-cognitiveservices-search-websearch)\n",
      "  Downloading https://files.pythonhosted.org/packages/c2/e2/9fd03d55ffb70fe51f587f20bcf407a6927eb121de86928b34d162f0b1ac/requests_oauthlib-1.2.0-py2.py3-none-any.whl\n",
      "Requirement already satisfied: certifi>=2017.4.17 in c:\\users\\zhang\\anaconda3\\lib\\site-packages (from msrest<2.0.0,>=0.4.28->azure-cognitiveservices-search-websearch) (2018.11.29)\n",
      "Requirement already satisfied: requests~=2.16 in c:\\users\\zhang\\anaconda3\\lib\\site-packages (from msrest<2.0.0,>=0.4.28->azure-cognitiveservices-search-websearch) (2.21.0)\n",
      "Collecting isodate>=0.6.0 (from msrest<2.0.0,>=0.4.28->azure-cognitiveservices-search-websearch)\n",
      "  Downloading https://files.pythonhosted.org/packages/9b/9f/b36f7774ff5ea8e428fdcfc4bb332c39ee5b9362ddd3d40d9516a55221b2/isodate-0.6.0-py2.py3-none-any.whl (45kB)\n",
      "Collecting azure-nspkg>=3.0.0 (from azure-cognitiveservices-nspkg>=3.0.0->azure-cognitiveservices-search-nspkg>=2.0.0->azure-cognitiveservices-search-websearch)\n",
      "  Downloading https://files.pythonhosted.org/packages/c4/0c/c562be95a9a2ed52454f598571cf300b1114d0db2aa27f5b8ed3bb9cd0c0/azure_nspkg-3.0.2-py3-none-any.whl\n",
      "Collecting oauthlib>=3.0.0 (from requests-oauthlib>=0.5.0->msrest<2.0.0,>=0.4.28->azure-cognitiveservices-search-websearch)\n",
      "  Downloading https://files.pythonhosted.org/packages/05/57/ce2e7a8fa7c0afb54a0581b14a65b56e62b5759dbc98e80627142b8a3704/oauthlib-3.1.0-py2.py3-none-any.whl (147kB)\n",
      "Requirement already satisfied: chardet<3.1.0,>=3.0.2 in c:\\users\\zhang\\anaconda3\\lib\\site-packages (from requests~=2.16->msrest<2.0.0,>=0.4.28->azure-cognitiveservices-search-websearch) (3.0.4)\n",
      "Requirement already satisfied: idna<2.9,>=2.5 in c:\\users\\zhang\\anaconda3\\lib\\site-packages (from requests~=2.16->msrest<2.0.0,>=0.4.28->azure-cognitiveservices-search-websearch) (2.8)\n",
      "Requirement already satisfied: urllib3<1.25,>=1.21.1 in c:\\users\\zhang\\anaconda3\\lib\\site-packages (from requests~=2.16->msrest<2.0.0,>=0.4.28->azure-cognitiveservices-search-websearch) (1.24.1)\n",
      "Requirement already satisfied: six in c:\\users\\zhang\\anaconda3\\lib\\site-packages (from isodate>=0.6.0->msrest<2.0.0,>=0.4.28->azure-cognitiveservices-search-websearch) (1.12.0)\n",
      "Installing collected packages: azure-common, azure-nspkg, azure-cognitiveservices-nspkg, azure-cognitiveservices-search-nspkg, oauthlib, requests-oauthlib, isodate, msrest, azure-cognitiveservices-search-websearch\n",
      "Successfully installed azure-cognitiveservices-nspkg-3.0.1 azure-cognitiveservices-search-nspkg-3.0.1 azure-cognitiveservices-search-websearch-1.0.0 azure-common-1.1.23 azure-nspkg-3.0.2 isodate-0.6.0 msrest-0.6.9 oauthlib-3.1.0 requests-oauthlib-1.2.0\n"
     ]
    }
   ],
   "source": [
    "!python -m pip install azure-cognitiveservices-search-websearch"
   ]
  },
  {
   "cell_type": "code",
   "execution_count": 3,
   "metadata": {},
   "outputs": [
    {
     "name": "stderr",
     "output_type": "stream",
     "text": [
      "Subtype value Organization has no mapping, use base class Thing.\n",
      "Subtype value Organization has no mapping, use base class Thing.\n",
      "Subtype value Organization has no mapping, use base class Thing.\n",
      "Subtype value Organization has no mapping, use base class Thing.\n",
      "Subtype value Organization has no mapping, use base class Thing.\n"
     ]
    },
    {
     "name": "stdout",
     "output_type": "stream",
     "text": [
      "\r\n",
      "Searched for Query# \" Yosemite \"\n",
      "\r\n",
      "Webpage Results#10\n",
      "First web page name: Hypertension - Wikipedia \n",
      "First web page URL: https://en.wikipedia.org/wiki/Hypertension \n",
      "Didn't find any images...\n",
      "\r\n",
      "News Results#5\n",
      "First News name: Molecular genetic framework underlying pulmonary arterial hypertension \n",
      "First News URL: https://www.nature.com/articles/s41569-019-0242-x \n",
      "Didn't find any videos...\n"
     ]
    }
   ],
   "source": [
    "# Import required modules.\n",
    "from azure.cognitiveservices.search.websearch import WebSearchAPI\n",
    "from azure.cognitiveservices.search.websearch.models import SafeSearch\n",
    "from msrest.authentication import CognitiveServicesCredentials\n",
    "\n",
    "# Replace with your subscription key.\n",
    "subscription_key = \"3b4066fbe4774c6da3a47e7a5399b440\"\n",
    "\n",
    "# Instantiate the client and replace with your endpoint.\n",
    "client = WebSearchAPI(CognitiveServicesCredentials(subscription_key), base_url = \"https://bingtril.cognitiveservices.azure.com/bing/v7.0\")\n",
    "\n",
    "# Make a request. Replace Yosemite if you'd like.\n",
    "web_data = client.web.search(query=\"hypertension\")\n",
    "print(\"\\r\\nSearched for Query# \\\" Yosemite \\\"\")\n",
    "\n",
    "'''\n",
    "Web pages\n",
    "If the search response contains web pages, the first result's name and url\n",
    "are printed.\n",
    "'''\n",
    "if hasattr(web_data.web_pages, 'value'):\n",
    "\n",
    "    print(\"\\r\\nWebpage Results#{}\".format(len(web_data.web_pages.value)))\n",
    "\n",
    "    first_web_page = web_data.web_pages.value[0]\n",
    "    print(\"First web page name: {} \".format(first_web_page.name))\n",
    "    print(\"First web page URL: {} \".format(first_web_page.url))\n",
    "\n",
    "else:\n",
    "    print(\"Didn't find any web pages...\")\n",
    "\n",
    "'''\n",
    "Images\n",
    "If the search response contains images, the first result's name and url\n",
    "are printed.\n",
    "'''\n",
    "if hasattr(web_data.images, 'value'):\n",
    "\n",
    "    print(\"\\r\\nImage Results#{}\".format(len(web_data.images.value)))\n",
    "\n",
    "    first_image = web_data.images.value[0]\n",
    "    print(\"First Image name: {} \".format(first_image.name))\n",
    "    print(\"First Image URL: {} \".format(first_image.url))\n",
    "\n",
    "else:\n",
    "    print(\"Didn't find any images...\")\n",
    "\n",
    "'''\n",
    "News\n",
    "If the search response contains news, the first result's name and url\n",
    "are printed.\n",
    "'''\n",
    "if hasattr(web_data.news, 'value'):\n",
    "\n",
    "    print(\"\\r\\nNews Results#{}\".format(len(web_data.news.value)))\n",
    "\n",
    "    first_news = web_data.news.value[0]\n",
    "    print(\"First News name: {} \".format(first_news.name))\n",
    "    print(\"First News URL: {} \".format(first_news.url))\n",
    "\n",
    "else:\n",
    "    print(\"Didn't find any news...\")\n",
    "\n",
    "'''\n",
    "If the search response contains videos, the first result's name and url\n",
    "are printed.\n",
    "'''\n",
    "if hasattr(web_data.videos, 'value'):\n",
    "\n",
    "    print(\"\\r\\nVideos Results#{}\".format(len(web_data.videos.value)))\n",
    "\n",
    "    first_video = web_data.videos.value[0]\n",
    "    print(\"First Videos name: {} \".format(first_video.name))\n",
    "    print(\"First Videos URL: {} \".format(first_video.url))\n",
    "\n",
    "else:\n",
    "    print(\"Didn't find any videos...\")"
   ]
  },
  {
   "cell_type": "code",
   "execution_count": null,
   "metadata": {},
   "outputs": [],
   "source": []
  }
 ],
 "metadata": {
  "kernelspec": {
   "display_name": "Python 3",
   "language": "python",
   "name": "python3"
  },
  "language_info": {
   "codemirror_mode": {
    "name": "ipython",
    "version": 3
   },
   "file_extension": ".py",
   "mimetype": "text/x-python",
   "name": "python",
   "nbconvert_exporter": "python",
   "pygments_lexer": "ipython3",
   "version": "3.7.1"
  }
 },
 "nbformat": 4,
 "nbformat_minor": 2
}
