{
 "cells": [
  {
   "cell_type": "markdown",
   "metadata": {},
   "source": [
    "# Diagnosis System version 2\n",
    "This version will be able to recognize vague inputs through synonyms. The main diagnosis process is excuted though a weight matrix which is gathered from a word embedding process. The weight matrix will be adaptive, which means it will update as diagnosis goes."
   ]
  },
  {
   "cell_type": "code",
   "execution_count": 1,
   "metadata": {
    "scrolled": true
   },
   "outputs": [
    {
     "name": "stderr",
     "output_type": "stream",
     "text": [
      "/home/chaozhang/.local/lib/python3.6/site-packages/smart_open/smart_open_lib.py:398: UserWarning: This function is deprecated, use smart_open.open instead. See the migration notes for details: https://github.com/RaRe-Technologies/smart_open/blob/master/README.rst#migrating-to-the-new-open-function\n",
      "  'See the migration notes for details: %s' % _MIGRATION_NOTES_URL\n"
     ]
    }
   ],
   "source": [
    "# load data\n",
    "import pandas as pd\n",
    "import numpy as np\n",
    "from gensim.models import Word2Vec\n",
    "\n",
    "WM = pd.read_csv('../WeightMatrix/Dis_Sym_30.csv', index_col=0)\n",
    "\n",
    "model = Word2Vec.load('../WordEmbedding/word2vec_models/word2vec_bmc_30.model')\n",
    "\n",
    "dis2sym = pd.read_csv('../UMLS/dis_symptom.csv', header=None)\n",
    "\n",
    "dis2sym.fillna(method='ffill',inplace=True)\n",
    "\n",
    "umls_dis = {}\n",
    "umls_sym = {}\n",
    "dis_num = {}\n",
    "for i in dis2sym.index:\n",
    "    temp = dis2sym.loc[i][0]\n",
    "    items = temp.split('^')\n",
    "    item = items[0].strip('UMLS:').split('_')\n",
    "    if len(item) != 2: continue\n",
    "    umls_dis[item[0]] = item[1]\n",
    "    dis_num[item[0]] = int(dis2sym.loc[i][1])\n",
    "for i in dis2sym.index:\n",
    "    temp = dis2sym.loc[i][2]\n",
    "    items = temp.split('^')\n",
    "    item = items[0].strip('UMLS:').split('_')\n",
    "    if len(item) != 2: continue\n",
    "    umls_sym[item[0]] = item[1]\n",
    "    \n",
    "rev_sym = {v: k for k, v in umls_sym.items()}\n",
    "rev_dis = {v: k for k, v in umls_dis.items()}\n",
    "\n"
   ]
  },
  {
   "cell_type": "code",
   "execution_count": 53,
   "metadata": {},
   "outputs": [],
   "source": [
    "#dis_num"
   ]
  },
  {
   "cell_type": "code",
   "execution_count": 2,
   "metadata": {},
   "outputs": [],
   "source": [
    "def initial_input():\n",
    "    # initial input part\n",
    "    gendermap = {'F':'Female', 'M': 'Male'}\n",
    "    print('Please type in the gender for the patient. F for female and M for male')\n",
    "    g = input()\n",
    "    gender = gendermap[g]\n",
    "    print('Please type in the age for the patient in years.')\n",
    "    age = int(input())\n",
    "    print('What symptom do you have?')\n",
    "    sym = input()\n",
    "    \n",
    "    return gender, age, sym"
   ]
  },
  {
   "cell_type": "code",
   "execution_count": 3,
   "metadata": {
    "scrolled": true
   },
   "outputs": [
    {
     "data": {
      "text/plain": [
       "[('UMLS_C0037383', 0.7227292656898499),\n",
       " ('sneezing', 0.7105668783187866),\n",
       " ('UMLS_C0013404', 0.7058680057525635),\n",
       " ('throat', 0.6963392496109009),\n",
       " ('breathlessness', 0.6704373359680176),\n",
       " ('whooping', 0.6695073246955872),\n",
       " ('wheeze', 0.6689133644104004),\n",
       " ('catarrh', 0.6580345630645752),\n",
       " ('UMLS_C0010200UMLS_C0010200', 0.65207839012146),\n",
       " ('UMLS_C0010200ing', 0.651138961315155),\n",
       " ('expectoration', 0.6495738625526428),\n",
       " ('breathing', 0.6430724263191223),\n",
       " ('dyspnoea', 0.6369428634643555),\n",
       " ('UMLS_C0392680', 0.6353326439857483),\n",
       " ('UMLS_C0043144', 0.6294315457344055),\n",
       " ('symptom', 0.6250048875808716),\n",
       " ('sore', 0.6245930790901184),\n",
       " ('UMLS_C0848340', 0.6242419481277466),\n",
       " ('stuffiness', 0.6222015023231506),\n",
       " ('UMLS_C0232292', 0.6214612722396851)]"
      ]
     },
     "execution_count": 3,
     "metadata": {},
     "output_type": "execute_result"
    }
   ],
   "source": [
    "model.wv.most_similar('UMLS_C0010200', topn=20)"
   ]
  },
  {
   "cell_type": "code",
   "execution_count": 4,
   "metadata": {},
   "outputs": [],
   "source": [
    "import re\n",
    "def findsynonym(sym):\n",
    "    if sym in rev_sym:\n",
    "        return rev_sym[sym]\n",
    "    \n",
    "    for tup in model.wv.most_similar(sym, topn=20):\n",
    "        if 'UMLS' in tup[0]:\n",
    "            pattern = re.compile('C[1234567890]*')\n",
    "            symp = re.findall(pattern, tup[0])\n",
    "            return symp[0]"
   ]
  },
  {
   "cell_type": "code",
   "execution_count": 5,
   "metadata": {},
   "outputs": [],
   "source": [
    "def SelectedMatrix(sym):\n",
    "    selected = WM[WM[sym] != 0]\n",
    "    selected = selected.drop(columns=[sym])\n",
    "    for c in selected.columns:\n",
    "        if sum(selected[c]) == 0:\n",
    "            selected.drop(columns=[c],inplace=True)\n",
    "    return selected\n",
    "    "
   ]
  },
  {
   "cell_type": "code",
   "execution_count": 6,
   "metadata": {},
   "outputs": [],
   "source": [
    "def renorm(dia):\n",
    "    dia.sort_values(ascending=False, inplace=True)\n",
    "    temp = dia**2\n",
    "    \n",
    "    s = sum(temp[:5])\n",
    "    return temp/s"
   ]
  },
  {
   "cell_type": "code",
   "execution_count": 7,
   "metadata": {},
   "outputs": [],
   "source": [
    "def diagnosis():\n",
    "    \n",
    "    gender, age, sym = initial_input()\n",
    "    \n",
    "    sym = findsynonym(sym)\n",
    "    \n",
    "    selected = SelectedMatrix(sym)\n",
    "    \n",
    "    #The response vector\n",
    "    res = pd.Series(index=WM.columns, data=[0]*len(WM.columns))\n",
    "    res[sym] = 1\n",
    "    \n",
    "    #Diagnosis process\n",
    "    while True:\n",
    "        dia = WM.dot(res)\n",
    "        dia = renorm(dia)\n",
    "        #print(sorted(dia,reverse=True))\n",
    "        if max(dia) > 0.5:\n",
    "            print('-----------------------------------------------------------')\n",
    "            print('Diagnosis results:')\n",
    "            for i in range(len(dia)):\n",
    "                if i < 5:\n",
    "                    print(umls_dis[dia.keys()[i]], ':%2d'%(dia[i]*100), '%')\n",
    "            print('-----------------------------------------------------------')        \n",
    "            return 'Diagnosis done'\n",
    "        if len(selected) == 1:\n",
    "            return 'Diagnosis fail'\n",
    "            \n",
    "        #choose the most relevant symptom to ask: The symptom that are least shared with other diseases\n",
    "        next_i = selected.columns[0]\n",
    "        s = 0\n",
    "        for i in selected.columns:\n",
    "            if selected.iloc[0][i] > 0:\n",
    "                pri = selected[i].value_counts()[0]\n",
    "                if pri > s:\n",
    "                    s = pri\n",
    "                    next_i = i\n",
    "         \n",
    "        print('-----------------------------------------------------------')\n",
    "        print('Do you have the following symptom: (Y for Yes and N for No)')\n",
    "        print(umls_sym[next_i])\n",
    "        \n",
    "        answer = input()\n",
    "        while answer != 'Y' and answer != 'N':\n",
    "            answer = input()\n",
    "              \n",
    "        selected.drop(columns=[next_i], inplace = True)\n",
    "        if answer == 'Y':\n",
    "            res[next_i] = 2\n",
    "        else:\n",
    "            res[next_i] = 0\n",
    "            selected.drop(selected.index[0], inplace=True)\n",
    "    "
   ]
  },
  {
   "cell_type": "code",
   "execution_count": 8,
   "metadata": {
    "scrolled": true
   },
   "outputs": [
    {
     "name": "stdout",
     "output_type": "stream",
     "text": [
      "Please type in the gender for the patient. F for female and M for male\n",
      "M\n",
      "Please type in the age for the patient in years.\n",
      "24\n",
      "What symptom do you have?\n",
      "cough\n"
     ]
    },
    {
     "name": "stderr",
     "output_type": "stream",
     "text": [
      "/srv/jupyterhub/anaconda3/lib/python3.6/site-packages/numexpr/cpuinfo.py:42: UserWarning: [Errno 12] Cannot allocate memory\n",
      "  warnings.warn(str(e), UserWarning, stacklevel=stacklevel)\n"
     ]
    },
    {
     "name": "stdout",
     "output_type": "stream",
     "text": [
      "-----------------------------------------------------------\n",
      "Do you have the following symptom: (Y for Yes and N for No)\n",
      "yellow sputum\n",
      "Y\n",
      "-----------------------------------------------------------\n",
      "Do you have the following symptom: (Y for Yes and N for No)\n",
      "green sputum\n",
      "Y\n",
      "-----------------------------------------------------------\n",
      "Do you have the following symptom: (Y for Yes and N for No)\n",
      "malaise\n",
      "Y\n",
      "-----------------------------------------------------------\n",
      "Diagnosis results:\n",
      "pneumonia :53 %\n",
      "asthma :13 %\n",
      "hepatitis B :11 %\n",
      "influenza :11 %\n",
      "colitis :10 %\n",
      "-----------------------------------------------------------\n"
     ]
    },
    {
     "data": {
      "text/plain": [
       "'Diagnosis done'"
      ]
     },
     "execution_count": 8,
     "metadata": {},
     "output_type": "execute_result"
    }
   ],
   "source": [
    "diagnosis()"
   ]
  },
  {
   "cell_type": "code",
   "execution_count": 2,
   "metadata": {},
   "outputs": [],
   "source": [
    "import pandas as pd\n",
    "dis2sym = pd.read_csv('/home/chaozhang/czhang/UMLS/dis_symptom.csv', header=None)\n"
   ]
  },
  {
   "cell_type": "code",
   "execution_count": 46,
   "metadata": {},
   "outputs": [
    {
     "name": "stdout",
     "output_type": "stream",
     "text": [
      "%\n"
     ]
    }
   ],
   "source": [
    "print('%')"
   ]
  },
  {
   "cell_type": "code",
   "execution_count": null,
   "metadata": {},
   "outputs": [],
   "source": []
  }
 ],
 "metadata": {
  "kernelspec": {
   "display_name": "Python 3",
   "language": "python",
   "name": "python3"
  },
  "language_info": {
   "codemirror_mode": {
    "name": "ipython",
    "version": 3
   },
   "file_extension": ".py",
   "mimetype": "text/x-python",
   "name": "python",
   "nbconvert_exporter": "python",
   "pygments_lexer": "ipython3",
   "version": "3.6.3"
  }
 },
 "nbformat": 4,
 "nbformat_minor": 2
}
