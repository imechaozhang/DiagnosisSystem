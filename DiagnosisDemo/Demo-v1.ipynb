{
 "cells": [
  {
   "cell_type": "markdown",
   "metadata": {},
   "source": [
    "# Model version 1\n",
    "This is a Demo based on UMLS codes. Including 150 common diseases. This demo is interactive and adaptive. Given the input from the patients or physicians, a question is asked based on their answer, and a diagnosis is made if certain crtiria is met. "
   ]
  },
  {
   "cell_type": "code",
   "execution_count": 11,
   "metadata": {},
   "outputs": [],
   "source": [
    "import numpy as np\n",
    "import pandas as pd"
   ]
  },
  {
   "cell_type": "code",
   "execution_count": 12,
   "metadata": {},
   "outputs": [],
   "source": [
    "dis2sym = pd.read_csv('../UMLS/dis_symptom.csv', header=None)"
   ]
  },
  {
   "cell_type": "markdown",
   "metadata": {},
   "source": [
    "### Transfrom the disease-symptom file into dictionaries for code-terms association"
   ]
  },
  {
   "cell_type": "code",
   "execution_count": 13,
   "metadata": {},
   "outputs": [],
   "source": [
    "dis2sym.fillna(method='ffill',inplace=True)\n",
    "umls_dis = {}\n",
    "umls_sym = {}\n",
    "for i in dis2sym.index:\n",
    "    temp = dis2sym.loc[i][0]\n",
    "    items = temp.split('^')\n",
    "    item = items[0].strip('UMLS:').split('_')\n",
    "    if len(item) != 2: continue\n",
    "    umls_dis[item[0]] = item[1]\n",
    "for i in dis2sym.index:\n",
    "    temp = dis2sym.loc[i][2]\n",
    "    items = temp.split('^')\n",
    "    item = items[0].strip('UMLS:').split('_')\n",
    "    if len(item) != 2: continue\n",
    "    umls_sym[item[0]] = item[1]"
   ]
  },
  {
   "cell_type": "code",
   "execution_count": 14,
   "metadata": {},
   "outputs": [],
   "source": [
    "rev_sym = {v: k for k, v in umls_sym.items()}"
   ]
  },
  {
   "cell_type": "markdown",
   "metadata": {},
   "source": [
    "### Construct a matrix for disease-symptoms association"
   ]
  },
  {
   "cell_type": "code",
   "execution_count": 15,
   "metadata": {},
   "outputs": [],
   "source": [
    "M = pd.DataFrame(index=umls_dis.keys(), columns=umls_sym.keys())\n",
    "for i in dis2sym.index:\n",
    "    temp = dis2sym.loc[i][0]\n",
    "    items = temp.split('^')\n",
    "    item = items[0].strip('UMLS:').split('_')\n",
    "    if len(item) != 2: continue\n",
    "    dis = item[0]\n",
    "    \n",
    "    temp = dis2sym.loc[i][2]\n",
    "    items = temp.split('^')\n",
    "    item = items[0].strip('UMLS:').split('_')\n",
    "    if len(item) != 2: continue\n",
    "    sym = item[0]\n",
    "    \n",
    "    M.loc[dis][sym] = 1.0\n"
   ]
  },
  {
   "cell_type": "code",
   "execution_count": 16,
   "metadata": {},
   "outputs": [
    {
     "data": {
      "text/html": [
       "<div>\n",
       "<style scoped>\n",
       "    .dataframe tbody tr th:only-of-type {\n",
       "        vertical-align: middle;\n",
       "    }\n",
       "\n",
       "    .dataframe tbody tr th {\n",
       "        vertical-align: top;\n",
       "    }\n",
       "\n",
       "    .dataframe thead th {\n",
       "        text-align: right;\n",
       "    }\n",
       "</style>\n",
       "<table border=\"1\" class=\"dataframe\">\n",
       "  <thead>\n",
       "    <tr style=\"text-align: right;\">\n",
       "      <th></th>\n",
       "      <th>C0008031</th>\n",
       "      <th>C0392680</th>\n",
       "      <th>C0012833</th>\n",
       "      <th>C0004093</th>\n",
       "      <th>C0085639</th>\n",
       "      <th>C0039070</th>\n",
       "      <th>C0042571</th>\n",
       "      <th>C0038990</th>\n",
       "      <th>C0030252</th>\n",
       "      <th>C0027497</th>\n",
       "      <th>...</th>\n",
       "      <th>C0474505</th>\n",
       "      <th>C0240805</th>\n",
       "      <th>C0020639</th>\n",
       "      <th>C0556346</th>\n",
       "      <th>C0000727</th>\n",
       "      <th>C0740844</th>\n",
       "      <th>C0425491</th>\n",
       "      <th>C0456091</th>\n",
       "      <th>C0231441</th>\n",
       "      <th>C0455204</th>\n",
       "    </tr>\n",
       "  </thead>\n",
       "  <tbody>\n",
       "    <tr>\n",
       "      <th>C0020538</th>\n",
       "      <td>0.083333</td>\n",
       "      <td>0.083333</td>\n",
       "      <td>0.083333</td>\n",
       "      <td>0.083333</td>\n",
       "      <td>0.083333</td>\n",
       "      <td>0.083333</td>\n",
       "      <td>0.083333</td>\n",
       "      <td>0.083333</td>\n",
       "      <td>0.083333</td>\n",
       "      <td>0.083333</td>\n",
       "      <td>...</td>\n",
       "      <td>0.0</td>\n",
       "      <td>0.0</td>\n",
       "      <td>0.0</td>\n",
       "      <td>0.0</td>\n",
       "      <td>0.0</td>\n",
       "      <td>0.0</td>\n",
       "      <td>0.0</td>\n",
       "      <td>0.0</td>\n",
       "      <td>0.0</td>\n",
       "      <td>0.0</td>\n",
       "    </tr>\n",
       "    <tr>\n",
       "      <th>C0011847</th>\n",
       "      <td>0.071429</td>\n",
       "      <td>0.071429</td>\n",
       "      <td>0.000000</td>\n",
       "      <td>0.071429</td>\n",
       "      <td>0.000000</td>\n",
       "      <td>0.000000</td>\n",
       "      <td>0.071429</td>\n",
       "      <td>0.071429</td>\n",
       "      <td>0.000000</td>\n",
       "      <td>0.071429</td>\n",
       "      <td>...</td>\n",
       "      <td>0.0</td>\n",
       "      <td>0.0</td>\n",
       "      <td>0.0</td>\n",
       "      <td>0.0</td>\n",
       "      <td>0.0</td>\n",
       "      <td>0.0</td>\n",
       "      <td>0.0</td>\n",
       "      <td>0.0</td>\n",
       "      <td>0.0</td>\n",
       "      <td>0.0</td>\n",
       "    </tr>\n",
       "    <tr>\n",
       "      <th>C0011570</th>\n",
       "      <td>0.000000</td>\n",
       "      <td>0.000000</td>\n",
       "      <td>0.000000</td>\n",
       "      <td>0.000000</td>\n",
       "      <td>0.000000</td>\n",
       "      <td>0.000000</td>\n",
       "      <td>0.000000</td>\n",
       "      <td>0.000000</td>\n",
       "      <td>0.000000</td>\n",
       "      <td>0.000000</td>\n",
       "      <td>...</td>\n",
       "      <td>0.0</td>\n",
       "      <td>0.0</td>\n",
       "      <td>0.0</td>\n",
       "      <td>0.0</td>\n",
       "      <td>0.0</td>\n",
       "      <td>0.0</td>\n",
       "      <td>0.0</td>\n",
       "      <td>0.0</td>\n",
       "      <td>0.0</td>\n",
       "      <td>0.0</td>\n",
       "    </tr>\n",
       "    <tr>\n",
       "      <th>C0010054</th>\n",
       "      <td>0.111111</td>\n",
       "      <td>0.111111</td>\n",
       "      <td>0.000000</td>\n",
       "      <td>0.000000</td>\n",
       "      <td>0.000000</td>\n",
       "      <td>0.000000</td>\n",
       "      <td>0.000000</td>\n",
       "      <td>0.111111</td>\n",
       "      <td>0.000000</td>\n",
       "      <td>0.000000</td>\n",
       "      <td>...</td>\n",
       "      <td>0.0</td>\n",
       "      <td>0.0</td>\n",
       "      <td>0.0</td>\n",
       "      <td>0.0</td>\n",
       "      <td>0.0</td>\n",
       "      <td>0.0</td>\n",
       "      <td>0.0</td>\n",
       "      <td>0.0</td>\n",
       "      <td>0.0</td>\n",
       "      <td>0.0</td>\n",
       "    </tr>\n",
       "    <tr>\n",
       "      <th>C0032285</th>\n",
       "      <td>0.000000</td>\n",
       "      <td>0.052632</td>\n",
       "      <td>0.000000</td>\n",
       "      <td>0.000000</td>\n",
       "      <td>0.000000</td>\n",
       "      <td>0.000000</td>\n",
       "      <td>0.000000</td>\n",
       "      <td>0.000000</td>\n",
       "      <td>0.000000</td>\n",
       "      <td>0.000000</td>\n",
       "      <td>...</td>\n",
       "      <td>0.0</td>\n",
       "      <td>0.0</td>\n",
       "      <td>0.0</td>\n",
       "      <td>0.0</td>\n",
       "      <td>0.0</td>\n",
       "      <td>0.0</td>\n",
       "      <td>0.0</td>\n",
       "      <td>0.0</td>\n",
       "      <td>0.0</td>\n",
       "      <td>0.0</td>\n",
       "    </tr>\n",
       "  </tbody>\n",
       "</table>\n",
       "<p>5 rows × 397 columns</p>\n",
       "</div>"
      ],
      "text/plain": [
       "          C0008031  C0392680  C0012833  C0004093  C0085639  C0039070  \\\n",
       "C0020538  0.083333  0.083333  0.083333  0.083333  0.083333  0.083333   \n",
       "C0011847  0.071429  0.071429  0.000000  0.071429  0.000000  0.000000   \n",
       "C0011570  0.000000  0.000000  0.000000  0.000000  0.000000  0.000000   \n",
       "C0010054  0.111111  0.111111  0.000000  0.000000  0.000000  0.000000   \n",
       "C0032285  0.000000  0.052632  0.000000  0.000000  0.000000  0.000000   \n",
       "\n",
       "          C0042571  C0038990  C0030252  C0027497    ...     C0474505  \\\n",
       "C0020538  0.083333  0.083333  0.083333  0.083333    ...          0.0   \n",
       "C0011847  0.071429  0.071429  0.000000  0.071429    ...          0.0   \n",
       "C0011570  0.000000  0.000000  0.000000  0.000000    ...          0.0   \n",
       "C0010054  0.000000  0.111111  0.000000  0.000000    ...          0.0   \n",
       "C0032285  0.000000  0.000000  0.000000  0.000000    ...          0.0   \n",
       "\n",
       "          C0240805  C0020639  C0556346  C0000727  C0740844  C0425491  \\\n",
       "C0020538       0.0       0.0       0.0       0.0       0.0       0.0   \n",
       "C0011847       0.0       0.0       0.0       0.0       0.0       0.0   \n",
       "C0011570       0.0       0.0       0.0       0.0       0.0       0.0   \n",
       "C0010054       0.0       0.0       0.0       0.0       0.0       0.0   \n",
       "C0032285       0.0       0.0       0.0       0.0       0.0       0.0   \n",
       "\n",
       "          C0456091  C0231441  C0455204  \n",
       "C0020538       0.0       0.0       0.0  \n",
       "C0011847       0.0       0.0       0.0  \n",
       "C0011570       0.0       0.0       0.0  \n",
       "C0010054       0.0       0.0       0.0  \n",
       "C0032285       0.0       0.0       0.0  \n",
       "\n",
       "[5 rows x 397 columns]"
      ]
     },
     "execution_count": 16,
     "metadata": {},
     "output_type": "execute_result"
    }
   ],
   "source": [
    "M.fillna(0,inplace=True)\n",
    "for i in M.index:\n",
    "    s = sum(M.loc[i])\n",
    "    for j in M.columns:\n",
    "        M.loc[i][j] /= s\n",
    "M.head()"
   ]
  },
  {
   "cell_type": "code",
   "execution_count": 17,
   "metadata": {},
   "outputs": [],
   "source": [
    "M.to_csv('Dis_Sym_Matrix.csv')"
   ]
  },
  {
   "cell_type": "markdown",
   "metadata": {},
   "source": [
    "## The diagnosis function"
   ]
  },
  {
   "cell_type": "code",
   "execution_count": 23,
   "metadata": {},
   "outputs": [],
   "source": [
    "def diagnosis():\n",
    "    # initial input part\n",
    "    gendermap = {'0':'Female', '1': 'Male'}\n",
    "    print('Please type in the gender for the patient. 0 for female and 1 for male')\n",
    "    g = input()\n",
    "    gender = gendermap[g]\n",
    "    print('Please type in the age for the patient in years.')\n",
    "    age = int(input())\n",
    "    print('What symptom do you have?')\n",
    "    sym = input()\n",
    "    \n",
    "    sym = rev_sym[sym]\n",
    "    \n",
    "    selected = M[M[sym] != 0]\n",
    "    selected = selected.drop(columns=[sym])\n",
    "    for c in selected.columns:\n",
    "        if sum(selected[c]) == 0:\n",
    "            selected.drop(columns=[c],inplace=True)\n",
    "    \n",
    "    #The response vector\n",
    "    res = pd.Series(index=M.columns, data=[0]*len(M.columns))\n",
    "    res[sym] = 1\n",
    "    \n",
    "    while True:\n",
    "        dia = M.dot(res)\n",
    "        dia = dia\n",
    "        #print(sorted(dia,reverse=True))\n",
    "        if max(dia) > 0.5:\n",
    "            dia.sort_values(ascending=False, inplace=True)\n",
    "            for i in range(len(dia)):\n",
    "                if i < 5:\n",
    "                    print(umls_dis[dia.keys()[i]], ':', dia[i])\n",
    "            return 'Diagnosis done'\n",
    "        if len(selected) == 1:\n",
    "            return 'Diagnosis fail'\n",
    "            \n",
    "        #choose the most relevant symptom to ask: The symptom that are least shared with other diseases\n",
    "        next_i = selected.columns[0]\n",
    "        s = 0\n",
    "        for i in selected.columns:\n",
    "            if selected.iloc[0][i] > 0:\n",
    "                if selected[i].value_counts()[0] > s:\n",
    "                    s = selected[i].value_counts()[0]\n",
    "                    next_i = i\n",
    "         \n",
    "        print('-----------------------------------------------------------')\n",
    "        print('Do you have the following symptom: (Y for Yes and N for No)')\n",
    "        print(umls_sym[next_i])\n",
    "        \n",
    "        answer = input()\n",
    "        while answer != 'Y' and answer != 'N':\n",
    "            answer = input()\n",
    "              \n",
    "        selected.drop(columns=[next_i], inplace = True)\n",
    "        if answer == 'Y':\n",
    "            res[next_i] = 2\n",
    "        else:\n",
    "            res[next_i] = 0\n",
    "            selected.drop(selected.index[0], inplace=True)\n",
    "    "
   ]
  },
  {
   "cell_type": "code",
   "execution_count": 24,
   "metadata": {},
   "outputs": [
    {
     "name": "stdout",
     "output_type": "stream",
     "text": [
      "Please type in the gender for the patient. 0 for female and 1 for male\n",
      "1\n",
      "Please type in the age for the patient in years.\n",
      "24\n",
      "What symptom do you have?\n",
      "cough\n",
      "-----------------------------------------------------------\n",
      "Do you have the following symptom: (Y for Yes and N for No)\n",
      "yellow sputum\n",
      "Y\n",
      "-----------------------------------------------------------\n",
      "Do you have the following symptom: (Y for Yes and N for No)\n",
      "green sputum\n",
      "N\n",
      "-----------------------------------------------------------\n",
      "Do you have the following symptom: (Y for Yes and N for No)\n",
      "jugular venous distention\n",
      "N\n",
      "-----------------------------------------------------------\n",
      "Do you have the following symptom: (Y for Yes and N for No)\n",
      "non-productive cough\n",
      "Y\n",
      "-----------------------------------------------------------\n",
      "Do you have the following symptom: (Y for Yes and N for No)\n",
      "symptom aggravating factors\n",
      "Y\n",
      "asthma : 0.555555555556\n",
      "pneumonia : 0.263157894737\n",
      "embolism pulmonary : 0.25\n",
      "Pneumocystis carinii pneumonia : 0.222222222222\n",
      "hepatitis B : 0.222222222222\n"
     ]
    },
    {
     "data": {
      "text/plain": [
       "'Diagnosis done'"
      ]
     },
     "execution_count": 24,
     "metadata": {},
     "output_type": "execute_result"
    }
   ],
   "source": [
    "diagnosis()"
   ]
  },
  {
   "cell_type": "code",
   "execution_count": 20,
   "metadata": {},
   "outputs": [],
   "source": [
    "a = pd.DataFrame(data=[[1,2],[2,3]], index = ['a','b'])\n",
    "b = pd.Series(data=[1,2])"
   ]
  },
  {
   "cell_type": "code",
   "execution_count": 22,
   "metadata": {},
   "outputs": [
    {
     "data": {
      "text/plain": [
       "1"
      ]
     },
     "execution_count": 22,
     "metadata": {},
     "output_type": "execute_result"
    }
   ],
   "source": [
    "a[0].value_counts()[2]"
   ]
  },
  {
   "cell_type": "code",
   "execution_count": null,
   "metadata": {},
   "outputs": [],
   "source": [
    "b"
   ]
  },
  {
   "cell_type": "code",
   "execution_count": null,
   "metadata": {},
   "outputs": [],
   "source": [
    "c = a.dot(b)\n",
    "c = c/c.sum()"
   ]
  },
  {
   "cell_type": "code",
   "execution_count": null,
   "metadata": {},
   "outputs": [],
   "source": [
    "gendermap = {'0':'Female', '1': 'Male'}\n",
    "print('Please type in the gender for the patient. 0 for female and 1 for male')\n",
    "g = input()\n",
    "gender = gendermap[g]\n",
    "print('Please type in the age for the patient in years.')\n",
    "age = int(input())\n",
    "print('What symptom do you have?')\n",
    "sym = input()\n",
    "\n",
    "sym = rev_sym[sym]\n",
    "\n",
    "selected = M[M[sym] != 0]"
   ]
  },
  {
   "cell_type": "code",
   "execution_count": null,
   "metadata": {},
   "outputs": [],
   "source": [
    "selected.info()"
   ]
  },
  {
   "cell_type": "code",
   "execution_count": null,
   "metadata": {},
   "outputs": [],
   "source": [
    "selected = selected.drop(columns=[sym])"
   ]
  },
  {
   "cell_type": "code",
   "execution_count": null,
   "metadata": {},
   "outputs": [],
   "source": [
    "for c in selected.columns:\n",
    "    if sum(selected[c]) == 0:\n",
    "        selected.drop(columns=[c],inplace=True)"
   ]
  },
  {
   "cell_type": "code",
   "execution_count": 25,
   "metadata": {},
   "outputs": [
    {
     "name": "stdout",
     "output_type": "stream",
     "text": [
      "Python 3.6.3 |Anaconda custom (64-bit)| (default, Nov  3 2017, 19:19:16) \n",
      "[GCC 7.2.0]\n"
     ]
    }
   ],
   "source": [
    "import sys; print(\"Python\", sys.version)"
   ]
  },
  {
   "cell_type": "code",
   "execution_count": 26,
   "metadata": {},
   "outputs": [
    {
     "name": "stdout",
     "output_type": "stream",
     "text": [
      "gensim 3.1.0\n"
     ]
    }
   ],
   "source": [
    "import gensim; print(\"gensim\", gensim.__version__)"
   ]
  },
  {
   "cell_type": "code",
   "execution_count": 30,
   "metadata": {},
   "outputs": [
    {
     "data": {
      "text/plain": [
       "5"
      ]
     },
     "execution_count": 30,
     "metadata": {},
     "output_type": "execute_result"
    }
   ],
   "source": [
    "import threading\n",
    "threading.activeCount()"
   ]
  },
  {
   "cell_type": "code",
   "execution_count": 35,
   "metadata": {},
   "outputs": [
    {
     "name": "stdout",
     "output_type": "stream",
     "text": [
      "conda 4.5.11\r\n"
     ]
    }
   ],
   "source": [
    "!conda --version"
   ]
  },
  {
   "cell_type": "code",
   "execution_count": 36,
   "metadata": {},
   "outputs": [
    {
     "name": "stdout",
     "output_type": "stream",
     "text": [
      "Python 3.6.3 :: Anaconda custom (64-bit)\r\n"
     ]
    }
   ],
   "source": [
    "!python --version"
   ]
  },
  {
   "cell_type": "code",
   "execution_count": 37,
   "metadata": {},
   "outputs": [
    {
     "name": "stdout",
     "output_type": "stream",
     "text": [
      "/bin/sh: gensim: command not found\r\n"
     ]
    }
   ],
   "source": [
    "!gensim --version"
   ]
  },
  {
   "cell_type": "code",
   "execution_count": null,
   "metadata": {},
   "outputs": [],
   "source": []
  }
 ],
 "metadata": {
  "kernelspec": {
   "display_name": "Python 3",
   "language": "python",
   "name": "python3"
  },
  "language_info": {
   "codemirror_mode": {
    "name": "ipython",
    "version": 3
   },
   "file_extension": ".py",
   "mimetype": "text/x-python",
   "name": "python",
   "nbconvert_exporter": "python",
   "pygments_lexer": "ipython3",
   "version": "3.6.3"
  }
 },
 "nbformat": 4,
 "nbformat_minor": 2
}
