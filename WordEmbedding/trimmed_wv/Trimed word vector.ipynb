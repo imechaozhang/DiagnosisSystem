{
 "cells": [
  {
   "cell_type": "code",
   "execution_count": 10,
   "metadata": {},
   "outputs": [],
   "source": [
    "from nltk.corpus import stopwords\n",
    "sw = set(stopwords.words('english'))\n"
   ]
  },
  {
   "cell_type": "code",
   "execution_count": 24,
   "metadata": {},
   "outputs": [
    {
     "name": "stderr",
     "output_type": "stream",
     "text": [
      "/home/chaozhang/.local/lib/python3.6/site-packages/smart_open/smart_open_lib.py:398: UserWarning: This function is deprecated, use smart_open.open instead. See the migration notes for details: https://github.com/RaRe-Technologies/smart_open/blob/master/README.rst#migrating-to-the-new-open-function\n",
      "  'See the migration notes for details: %s' % _MIGRATION_NOTES_URL\n",
      "/home/chaozhang/.local/lib/python3.6/site-packages/smart_open/smart_open_lib.py:398: UserWarning: This function is deprecated, use smart_open.open instead. See the migration notes for details: https://github.com/RaRe-Technologies/smart_open/blob/master/README.rst#migrating-to-the-new-open-function\n",
      "  'See the migration notes for details: %s' % _MIGRATION_NOTES_URL\n",
      "/home/chaozhang/.local/lib/python3.6/site-packages/smart_open/smart_open_lib.py:398: UserWarning: This function is deprecated, use smart_open.open instead. See the migration notes for details: https://github.com/RaRe-Technologies/smart_open/blob/master/README.rst#migrating-to-the-new-open-function\n",
      "  'See the migration notes for details: %s' % _MIGRATION_NOTES_URL\n"
     ]
    }
   ],
   "source": [
    "from gensim.models import KeyedVectors\n",
    "from gensim.models import Word2Vec\n",
    "import numpy as np\n",
    "\n",
    "\n",
    "def restrict_w2v(w2v, restricted_word_set):\n",
    "    \n",
    "    new_vectors = []\n",
    "    new_vocab = {}\n",
    "    new_index2entity = []\n",
    "\n",
    "    for i in range(len(w2v.vocab)):\n",
    "        \n",
    "        word = w2v.index2entity[i]\n",
    "        \n",
    "        if word in restricted_word_set:\n",
    "            \n",
    "            vec = w2v.vectors[i]\n",
    "            vocab = w2v.vocab[word]\n",
    "            \n",
    "            vocab.index = len(new_index2entity)\n",
    "            new_index2entity.append(word)\n",
    "            new_vocab[word] = vocab\n",
    "            new_vectors.append(vec)\n",
    "            \n",
    "        \n",
    "    w2v.vocab = new_vocab\n",
    "    w2v.vectors = np.vstack(new_vectors)\n",
    "    w2v.index2entity = new_index2entity\n",
    "    w2v.index2word = new_index2entity\n",
    "    # w2v.vectors_norm = None\n",
    "    \n",
    "\n",
    "model = Word2Vec.load('../word2vec_models/word2vec_bmc_30.model')\n",
    "word_vectors = model.wv\n",
    "\n",
    "sel_word = []\n",
    "\n",
    "for word, vocab in word_vectors.vocab.items():\n",
    "    \n",
    "    if word in sw: continue\n",
    "    \n",
    "    if ('UMLS_' in word) and (len(word) == 13):\n",
    "        sel_word.append(word)\n",
    "    \n",
    "    if vocab.count >= 200:\n",
    "        sel_word.append(word)\n",
    "\n",
    "sel_word = set(sel_word)\n",
    "\n",
    "restrict_w2v(word_vectors, sel_word)\n",
    "word_vectors.save('trimmed_wv.kv')\n",
    "\n"
   ]
  },
  {
   "cell_type": "code",
   "execution_count": 26,
   "metadata": {},
   "outputs": [
    {
     "data": {
      "text/plain": [
       "[('UMLS_C0085639', 0.6168836951255798),\n",
       " ('reach', 0.6148582696914673),\n",
       " ('decrease', 0.5975610613822937),\n",
       " ('dip', 0.5654827952384949),\n",
       " ('increase', 0.5651909112930298),\n",
       " ('reduction', 0.5589075684547424),\n",
       " ('return', 0.5532367825508118),\n",
       " ('squeeze', 0.5507760047912598),\n",
       " ('again', 0.5421923995018005),\n",
       " ('turn', 0.5415719151496887)]"
      ]
     },
     "execution_count": 26,
     "metadata": {},
     "output_type": "execute_result"
    }
   ],
   "source": [
    "word_vectors.most_similar('drop', )"
   ]
  },
  {
   "cell_type": "code",
   "execution_count": 55,
   "metadata": {},
   "outputs": [],
   "source": [
    "import pandas as pd\n",
    "dic = {}\n",
    "WM = pd.read_csv('../../WeightMatrix/Dis_Sym_30.csv', index_col=0)\n",
    "SYMP = WM.columns\n",
    "for word in sel_word:\n",
    "    if ('UMLS_' not in word):\n",
    "        for syn in word_vectors.most_similar(word, topn = 30):\n",
    "            syn = syn[0]\n",
    "            if 'UMLS_' in syn:\n",
    "                syn = syn.strip('UMLS_')\n",
    "                if syn in SYMP:\n",
    "                    dic[word] = syn\n",
    "                    continue\n"
   ]
  },
  {
   "cell_type": "code",
   "execution_count": 60,
   "metadata": {},
   "outputs": [
    {
     "data": {
      "text/plain": [
       "'C0037383'"
      ]
     },
     "execution_count": 60,
     "metadata": {},
     "output_type": "execute_result"
    }
   ],
   "source": [
    "dic['wheeze']"
   ]
  },
  {
   "cell_type": "code",
   "execution_count": 61,
   "metadata": {},
   "outputs": [],
   "source": [
    "ser = pd.Series(dic)"
   ]
  },
  {
   "cell_type": "code",
   "execution_count": 63,
   "metadata": {},
   "outputs": [],
   "source": [
    "df = pd.DataFrame(ser)"
   ]
  },
  {
   "cell_type": "code",
   "execution_count": 65,
   "metadata": {},
   "outputs": [],
   "source": [
    "df.to_csv('Dictionary.csv', header = False)"
   ]
  },
  {
   "cell_type": "code",
   "execution_count": null,
   "metadata": {},
   "outputs": [],
   "source": []
  }
 ],
 "metadata": {
  "kernelspec": {
   "display_name": "Python 3",
   "language": "python",
   "name": "python3"
  },
  "language_info": {
   "codemirror_mode": {
    "name": "ipython",
    "version": 3
   },
   "file_extension": ".py",
   "mimetype": "text/x-python",
   "name": "python",
   "nbconvert_exporter": "python",
   "pygments_lexer": "ipython3",
   "version": "3.6.3"
  }
 },
 "nbformat": 4,
 "nbformat_minor": 2
}
