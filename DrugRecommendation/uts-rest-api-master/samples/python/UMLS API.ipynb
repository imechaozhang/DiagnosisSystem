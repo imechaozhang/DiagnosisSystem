{
 "cells": [
  {
   "cell_type": "markdown",
   "metadata": {},
   "source": [
    "## This is the api for the match from ICD code to UMLS code."
   ]
  },
  {
   "cell_type": "markdown",
   "metadata": {},
   "source": [
    "### Authentication"
   ]
  },
  {
   "cell_type": "code",
   "execution_count": 32,
   "metadata": {},
   "outputs": [],
   "source": [
    "#!/usr/bin/python\n",
    "## 6/16/2017 - remove PyQuery dependency\n",
    "## 5/19/2016 - update to allow for authentication based on api-key, rather than username/pw\n",
    "## See https://documentation.uts.nlm.nih.gov/rest/authentication.html for full explanation\n",
    "\n",
    "import requests\n",
    "#from pyquery import PyQuery as pq\n",
    "import lxml.html as lh\n",
    "from lxml.html import fromstring\n",
    "\n",
    "uri=\"https://utslogin.nlm.nih.gov\"\n",
    "#option 1 - username/pw authentication at /cas/v1/tickets\n",
    "auth_endpoint = \"/cas/v1/tickets/\"\n",
    "#option 2 - api key authentication at /cas/v1/api-key\n",
    "#auth_endpoint = \"/cas/v1/api-key\"\n",
    "\n",
    "class Authentication:\n",
    "\n",
    "   def __init__(self, username, password):\n",
    "   #def __init__(self, apikey):\n",
    "    self.username=username\n",
    "    self.password=password\n",
    "    #self.apikey=apikey\n",
    "    self.service=\"http://umlsks.nlm.nih.gov\"\n",
    "\n",
    "   def gettgt(self):\n",
    "     params = {'username': self.username,'password': self.password}\n",
    "     #params = {'apikey': self.apikey}\n",
    "     h = {\"Content-type\": \"application/x-www-form-urlencoded\", \"Accept\": \"text/plain\", \"User-Agent\":\"python\" }\n",
    "     r = requests.post(uri+auth_endpoint,data=params,headers=h)\n",
    "     response = fromstring(r.text)\n",
    "     ## extract the entire URL needed from the HTML form (action attribute) returned - looks similar to \n",
    "     ## https://utslogin.nlm.nih.gov/cas/v1/tickets/TGT-36471-aYqNLN2rFIJPXKzxwdTNC5ZT7z3B3cTAKfSc5ndHQcUxeaDOLN-cas\n",
    "     ## we make a POST call to this URL in the getst method\n",
    "     tgt = response.xpath('//form/@action')[0]\n",
    "     return tgt\n",
    "\n",
    "   def getst(self,tgt):\n",
    "\n",
    "     params = {'service': self.service}\n",
    "     h = {\"Content-type\": \"application/x-www-form-urlencoded\", \"Accept\": \"text/plain\", \"User-Agent\":\"python\" }\n",
    "     r = requests.post(tgt,data=params,headers=h)\n",
    "     st = r.text\n",
    "     return st"
   ]
  },
  {
   "cell_type": "markdown",
   "metadata": {},
   "source": [
    "### Retrive the information"
   ]
  },
  {
   "cell_type": "code",
   "execution_count": 33,
   "metadata": {},
   "outputs": [],
   "source": [
    "import json\n",
    "import argparse\n",
    "username = 'ChaoZhang'\n",
    "password = '3f5hr7z9a0!!'\n",
    "version = '2019AA'\n",
    "#identifier = '79'\n",
    "source = 'ICD9CM'\n",
    "AuthClient = Authentication(username, password)"
   ]
  },
  {
   "cell_type": "code",
   "execution_count": 34,
   "metadata": {},
   "outputs": [],
   "source": [
    "tgt = AuthClient.gettgt()\n",
    "uri = \"https://uts-ws.nlm.nih.gov\""
   ]
  },
  {
   "cell_type": "code",
   "execution_count": 48,
   "metadata": {},
   "outputs": [],
   "source": [
    "def icd9tocui(identifier):\n",
    "    content_endpoint = \"/rest/search/2019AA?string=\"+str(identifier)+\"&sabs=ICD9CM&searchType=exact&inputType=sourceUi\"\n",
    "    query = {'ticket':AuthClient.getst(tgt)}\n",
    "    r = requests.get(uri+content_endpoint,params=query)\n",
    "    r.encoding = 'utf-8'\n",
    "    items  = json.loads(r.text)\n",
    "    jsonData = items[\"result\"]\n",
    "    return jsonData['results'][0]['ui']"
   ]
  },
  {
   "cell_type": "markdown",
   "metadata": {},
   "source": [
    "### Generate the icd9 to umls code matching file"
   ]
  },
  {
   "cell_type": "code",
   "execution_count": 59,
   "metadata": {},
   "outputs": [],
   "source": [
    "import pandas as pd\n",
    "MEDI = pd.read_csv('MEDI.csv')\n",
    "Medi_indi = MEDI[['STR', 'CODE']]\n",
    "for x in Medi_indi['CODE']:\n",
    "    x = x.split('-')[0]\n",
    "Medi_indi.columns = ['Medication', 'Indication']\n",
    "Medi_indi.set_index('Indication', inplace = True)"
   ]
  },
  {
   "cell_type": "code",
   "execution_count": 68,
   "metadata": {},
   "outputs": [
    {
     "name": "stdout",
     "output_type": "stream",
     "text": [
      "2705\n",
      "1000\n",
      "2000\n"
     ]
    }
   ],
   "source": [
    "i = 0\n",
    "s = set(Medi_indi.index)\n",
    "print(len(s))\n",
    "dic = {}\n",
    "for idx in s:\n",
    "    dic[idx] = icd9tocui(idx)\n",
    "    i += 1\n",
    "    if i%1000==0: print(i)"
   ]
  },
  {
   "cell_type": "code",
   "execution_count": 71,
   "metadata": {},
   "outputs": [],
   "source": [
    "pd.Series(dic).to_csv('ICD9CM_to_UMLS.csv')"
   ]
  },
  {
   "cell_type": "code",
   "execution_count": null,
   "metadata": {},
   "outputs": [],
   "source": []
  },
  {
   "cell_type": "code",
   "execution_count": null,
   "metadata": {},
   "outputs": [],
   "source": []
  },
  {
   "cell_type": "code",
   "execution_count": null,
   "metadata": {},
   "outputs": [],
   "source": []
  },
  {
   "cell_type": "code",
   "execution_count": null,
   "metadata": {},
   "outputs": [],
   "source": []
  },
  {
   "cell_type": "code",
   "execution_count": null,
   "metadata": {},
   "outputs": [],
   "source": []
  },
  {
   "cell_type": "code",
   "execution_count": null,
   "metadata": {},
   "outputs": [],
   "source": []
  },
  {
   "cell_type": "code",
   "execution_count": null,
   "metadata": {},
   "outputs": [],
   "source": []
  },
  {
   "cell_type": "code",
   "execution_count": null,
   "metadata": {},
   "outputs": [],
   "source": []
  },
  {
   "cell_type": "code",
   "execution_count": null,
   "metadata": {},
   "outputs": [],
   "source": []
  },
  {
   "cell_type": "code",
   "execution_count": null,
   "metadata": {},
   "outputs": [],
   "source": []
  },
  {
   "cell_type": "code",
   "execution_count": null,
   "metadata": {},
   "outputs": [],
   "source": []
  }
 ],
 "metadata": {
  "kernelspec": {
   "display_name": "Python 3",
   "language": "python",
   "name": "python3"
  },
  "language_info": {
   "codemirror_mode": {
    "name": "ipython",
    "version": 3
   },
   "file_extension": ".py",
   "mimetype": "text/x-python",
   "name": "python",
   "nbconvert_exporter": "python",
   "pygments_lexer": "ipython3",
   "version": "3.7.1"
  }
 },
 "nbformat": 4,
 "nbformat_minor": 2
}
